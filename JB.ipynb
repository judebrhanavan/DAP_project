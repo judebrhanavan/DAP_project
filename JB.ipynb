{
 "cells": [
  {
   "cell_type": "markdown",
   "metadata": {},
   "source": [
    "**Aloysious Brhanavan  x19206984** "
   ]
  },
  {
   "cell_type": "code",
   "execution_count": 1,
   "metadata": {},
   "outputs": [],
   "source": [
    "#import pandas packages used in the notebook \n",
    "import urllib.request \n",
    "import pandas as pd\n",
    "import matplotlib.pyplot as plt\n",
    "import seaborn as sns\n",
    "import psycopg2\n",
    "import pandas.io.sql as sqlio\n",
    "import statsmodels.api as sm \n",
    "\n",
    "# line magic to render and save images to notebook\n",
    "%matplotlib inline "
   ]
  },
  {
   "cell_type": "markdown",
   "metadata": {},
   "source": [
    "## Raw Data"
   ]
  },
  {
   "cell_type": "markdown",
   "metadata": {},
   "source": [
    "**Data Source**"
   ]
  },
  {
   "cell_type": "code",
   "execution_count": 2,
   "metadata": {},
   "outputs": [],
   "source": [
    "#Heating degree day (HDD) is a measurement of demand for energy needed to heat a building.\n",
    "# download the csv file and save it locally \n",
    "url = 'https://data.smartdublin.ie/dataset/10130831-d2a5-4f4f-b56b-03d8e2cc56c8/resource/9f8a9b41-60a9-4cbd-8630-865e51a18724/download/dcccivicofficeheatingdegreedaysp20130221-1853.csv'\n",
    "try : \n",
    "    urllib.request.urlretrieve(url, 'heating.csv')\n",
    "except Exception as err: \n",
    "    print(\"Error occured\", err)"
   ]
  },
  {
   "cell_type": "code",
   "execution_count": 3,
   "metadata": {},
   "outputs": [],
   "source": [
    "# read downloadded file into pandas daraframe\n",
    "df = pd.read_csv('heating.csv', skiprows = 1)"
   ]
  },
  {
   "cell_type": "markdown",
   "metadata": {},
   "source": [
    "**Exploring the dataset**"
   ]
  },
  {
   "cell_type": "code",
   "execution_count": 4,
   "metadata": {},
   "outputs": [
    {
     "data": {
      "text/html": [
       "<div>\n",
       "<style scoped>\n",
       "    .dataframe tbody tr th:only-of-type {\n",
       "        vertical-align: middle;\n",
       "    }\n",
       "\n",
       "    .dataframe tbody tr th {\n",
       "        vertical-align: top;\n",
       "    }\n",
       "\n",
       "    .dataframe thead th {\n",
       "        text-align: right;\n",
       "    }\n",
       "</style>\n",
       "<table border=\"1\" class=\"dataframe\">\n",
       "  <thead>\n",
       "    <tr style=\"text-align: right;\">\n",
       "      <th></th>\n",
       "      <th>Date</th>\n",
       "      <th>Values</th>\n",
       "      <th>00:00</th>\n",
       "      <th>00:15</th>\n",
       "      <th>00:30</th>\n",
       "      <th>00:45</th>\n",
       "      <th>01:00</th>\n",
       "      <th>01:15</th>\n",
       "      <th>01:30</th>\n",
       "      <th>01:45</th>\n",
       "      <th>...</th>\n",
       "      <th>21:30</th>\n",
       "      <th>21:45</th>\n",
       "      <th>22:00</th>\n",
       "      <th>22:15</th>\n",
       "      <th>22:30</th>\n",
       "      <th>22:45</th>\n",
       "      <th>23:00</th>\n",
       "      <th>23:15</th>\n",
       "      <th>23:30</th>\n",
       "      <th>23:45</th>\n",
       "    </tr>\n",
       "  </thead>\n",
       "  <tbody>\n",
       "    <tr>\n",
       "      <td>0</td>\n",
       "      <td>07/11/2009</td>\n",
       "      <td>96</td>\n",
       "      <td>NaN</td>\n",
       "      <td>NaN</td>\n",
       "      <td>NaN</td>\n",
       "      <td>NaN</td>\n",
       "      <td>NaN</td>\n",
       "      <td>NaN</td>\n",
       "      <td>NaN</td>\n",
       "      <td>NaN</td>\n",
       "      <td>...</td>\n",
       "      <td>0.096250</td>\n",
       "      <td>0.095937</td>\n",
       "      <td>0.098854</td>\n",
       "      <td>0.101354</td>\n",
       "      <td>0.103646</td>\n",
       "      <td>0.105104</td>\n",
       "      <td>0.106146</td>\n",
       "      <td>0.106979</td>\n",
       "      <td>0.107604</td>\n",
       "      <td>0.107917</td>\n",
       "    </tr>\n",
       "    <tr>\n",
       "      <td>1</td>\n",
       "      <td>08/11/2009</td>\n",
       "      <td>96</td>\n",
       "      <td>0.106875</td>\n",
       "      <td>0.107708</td>\n",
       "      <td>0.107708</td>\n",
       "      <td>0.106771</td>\n",
       "      <td>0.105729</td>\n",
       "      <td>0.105104</td>\n",
       "      <td>0.106042</td>\n",
       "      <td>0.103854</td>\n",
       "      <td>...</td>\n",
       "      <td>0.106771</td>\n",
       "      <td>0.106458</td>\n",
       "      <td>0.106771</td>\n",
       "      <td>0.106667</td>\n",
       "      <td>0.108854</td>\n",
       "      <td>0.110417</td>\n",
       "      <td>0.111562</td>\n",
       "      <td>0.110417</td>\n",
       "      <td>0.112708</td>\n",
       "      <td>0.115938</td>\n",
       "    </tr>\n",
       "    <tr>\n",
       "      <td>2</td>\n",
       "      <td>09/11/2009</td>\n",
       "      <td>96</td>\n",
       "      <td>0.118958</td>\n",
       "      <td>0.117708</td>\n",
       "      <td>0.116563</td>\n",
       "      <td>0.117292</td>\n",
       "      <td>0.116979</td>\n",
       "      <td>0.118229</td>\n",
       "      <td>0.117500</td>\n",
       "      <td>0.116979</td>\n",
       "      <td>...</td>\n",
       "      <td>0.065313</td>\n",
       "      <td>0.065208</td>\n",
       "      <td>0.065208</td>\n",
       "      <td>0.065313</td>\n",
       "      <td>0.065313</td>\n",
       "      <td>0.065833</td>\n",
       "      <td>0.065729</td>\n",
       "      <td>0.065313</td>\n",
       "      <td>0.064792</td>\n",
       "      <td>0.064271</td>\n",
       "    </tr>\n",
       "    <tr>\n",
       "      <td>3</td>\n",
       "      <td>10/11/2009</td>\n",
       "      <td>96</td>\n",
       "      <td>0.063750</td>\n",
       "      <td>0.063542</td>\n",
       "      <td>0.062708</td>\n",
       "      <td>0.062812</td>\n",
       "      <td>0.063021</td>\n",
       "      <td>0.063021</td>\n",
       "      <td>0.061979</td>\n",
       "      <td>0.060833</td>\n",
       "      <td>...</td>\n",
       "      <td>0.104688</td>\n",
       "      <td>0.105729</td>\n",
       "      <td>0.106979</td>\n",
       "      <td>0.108542</td>\n",
       "      <td>0.110000</td>\n",
       "      <td>0.111979</td>\n",
       "      <td>0.112917</td>\n",
       "      <td>0.112292</td>\n",
       "      <td>0.114062</td>\n",
       "      <td>0.116563</td>\n",
       "    </tr>\n",
       "    <tr>\n",
       "      <td>4</td>\n",
       "      <td>11/11/2009</td>\n",
       "      <td>96</td>\n",
       "      <td>0.118021</td>\n",
       "      <td>0.118333</td>\n",
       "      <td>0.120208</td>\n",
       "      <td>0.119479</td>\n",
       "      <td>0.117708</td>\n",
       "      <td>0.117396</td>\n",
       "      <td>0.116667</td>\n",
       "      <td>0.114479</td>\n",
       "      <td>...</td>\n",
       "      <td>0.052708</td>\n",
       "      <td>0.052292</td>\n",
       "      <td>0.052396</td>\n",
       "      <td>0.053229</td>\n",
       "      <td>0.056458</td>\n",
       "      <td>0.059479</td>\n",
       "      <td>0.065313</td>\n",
       "      <td>0.067396</td>\n",
       "      <td>0.068437</td>\n",
       "      <td>0.068542</td>\n",
       "    </tr>\n",
       "  </tbody>\n",
       "</table>\n",
       "<p>5 rows × 98 columns</p>\n",
       "</div>"
      ],
      "text/plain": [
       "         Date  Values     00:00     00:15     00:30     00:45     01:00  \\\n",
       "0  07/11/2009      96       NaN       NaN       NaN       NaN       NaN   \n",
       "1  08/11/2009      96  0.106875  0.107708  0.107708  0.106771  0.105729   \n",
       "2  09/11/2009      96  0.118958  0.117708  0.116563  0.117292  0.116979   \n",
       "3  10/11/2009      96  0.063750  0.063542  0.062708  0.062812  0.063021   \n",
       "4  11/11/2009      96  0.118021  0.118333  0.120208  0.119479  0.117708   \n",
       "\n",
       "      01:15     01:30     01:45  ...     21:30     21:45     22:00     22:15  \\\n",
       "0       NaN       NaN       NaN  ...  0.096250  0.095937  0.098854  0.101354   \n",
       "1  0.105104  0.106042  0.103854  ...  0.106771  0.106458  0.106771  0.106667   \n",
       "2  0.118229  0.117500  0.116979  ...  0.065313  0.065208  0.065208  0.065313   \n",
       "3  0.063021  0.061979  0.060833  ...  0.104688  0.105729  0.106979  0.108542   \n",
       "4  0.117396  0.116667  0.114479  ...  0.052708  0.052292  0.052396  0.053229   \n",
       "\n",
       "      22:30     22:45     23:00     23:15     23:30     23:45  \n",
       "0  0.103646  0.105104  0.106146  0.106979  0.107604  0.107917  \n",
       "1  0.108854  0.110417  0.111562  0.110417  0.112708  0.115938  \n",
       "2  0.065313  0.065833  0.065729  0.065313  0.064792  0.064271  \n",
       "3  0.110000  0.111979  0.112917  0.112292  0.114062  0.116563  \n",
       "4  0.056458  0.059479  0.065313  0.067396  0.068437  0.068542  \n",
       "\n",
       "[5 rows x 98 columns]"
      ]
     },
     "execution_count": 4,
     "metadata": {},
     "output_type": "execute_result"
    }
   ],
   "source": [
    "#inspect the dataframe\n",
    "df.head()"
   ]
  },
  {
   "cell_type": "code",
   "execution_count": 5,
   "metadata": {},
   "outputs": [
    {
     "data": {
      "text/plain": [
       "(1202, 98)"
      ]
     },
     "execution_count": 5,
     "metadata": {},
     "output_type": "execute_result"
    }
   ],
   "source": [
    "# get dimensions of raw dataset \n",
    "df.shape"
   ]
  },
  {
   "cell_type": "code",
   "execution_count": 6,
   "metadata": {},
   "outputs": [
    {
     "data": {
      "text/html": [
       "<div>\n",
       "<style scoped>\n",
       "    .dataframe tbody tr th:only-of-type {\n",
       "        vertical-align: middle;\n",
       "    }\n",
       "\n",
       "    .dataframe tbody tr th {\n",
       "        vertical-align: top;\n",
       "    }\n",
       "\n",
       "    .dataframe thead th {\n",
       "        text-align: right;\n",
       "    }\n",
       "</style>\n",
       "<table border=\"1\" class=\"dataframe\">\n",
       "  <thead>\n",
       "    <tr style=\"text-align: right;\">\n",
       "      <th></th>\n",
       "      <th>Values</th>\n",
       "      <th>00:00</th>\n",
       "      <th>00:15</th>\n",
       "      <th>00:30</th>\n",
       "      <th>00:45</th>\n",
       "      <th>01:00</th>\n",
       "      <th>01:15</th>\n",
       "      <th>01:30</th>\n",
       "      <th>01:45</th>\n",
       "      <th>02:00</th>\n",
       "      <th>...</th>\n",
       "      <th>21:30</th>\n",
       "      <th>21:45</th>\n",
       "      <th>22:00</th>\n",
       "      <th>22:15</th>\n",
       "      <th>22:30</th>\n",
       "      <th>22:45</th>\n",
       "      <th>23:00</th>\n",
       "      <th>23:15</th>\n",
       "      <th>23:30</th>\n",
       "      <th>23:45</th>\n",
       "    </tr>\n",
       "  </thead>\n",
       "  <tbody>\n",
       "    <tr>\n",
       "      <td>count</td>\n",
       "      <td>1202.0</td>\n",
       "      <td>1201.000000</td>\n",
       "      <td>1201.000000</td>\n",
       "      <td>1200.000000</td>\n",
       "      <td>1198.000000</td>\n",
       "      <td>1198.000000</td>\n",
       "      <td>1198.000000</td>\n",
       "      <td>1198.000000</td>\n",
       "      <td>1200.000000</td>\n",
       "      <td>1200.000000</td>\n",
       "      <td>...</td>\n",
       "      <td>1202.000000</td>\n",
       "      <td>1202.000000</td>\n",
       "      <td>1202.000000</td>\n",
       "      <td>1202.000000</td>\n",
       "      <td>1202.000000</td>\n",
       "      <td>1202.000000</td>\n",
       "      <td>1202.000000</td>\n",
       "      <td>1202.000000</td>\n",
       "      <td>1202.000000</td>\n",
       "      <td>1202.000000</td>\n",
       "    </tr>\n",
       "    <tr>\n",
       "      <td>mean</td>\n",
       "      <td>96.0</td>\n",
       "      <td>0.068573</td>\n",
       "      <td>0.069090</td>\n",
       "      <td>0.069483</td>\n",
       "      <td>0.069916</td>\n",
       "      <td>0.070368</td>\n",
       "      <td>0.070830</td>\n",
       "      <td>0.071209</td>\n",
       "      <td>0.071484</td>\n",
       "      <td>0.071762</td>\n",
       "      <td>...</td>\n",
       "      <td>0.063419</td>\n",
       "      <td>0.063933</td>\n",
       "      <td>0.064498</td>\n",
       "      <td>0.065072</td>\n",
       "      <td>0.065661</td>\n",
       "      <td>0.066181</td>\n",
       "      <td>0.066683</td>\n",
       "      <td>0.067251</td>\n",
       "      <td>0.067722</td>\n",
       "      <td>0.068147</td>\n",
       "    </tr>\n",
       "    <tr>\n",
       "      <td>std</td>\n",
       "      <td>0.0</td>\n",
       "      <td>0.045886</td>\n",
       "      <td>0.045867</td>\n",
       "      <td>0.045771</td>\n",
       "      <td>0.045775</td>\n",
       "      <td>0.045835</td>\n",
       "      <td>0.045816</td>\n",
       "      <td>0.045781</td>\n",
       "      <td>0.045769</td>\n",
       "      <td>0.045754</td>\n",
       "      <td>...</td>\n",
       "      <td>0.045910</td>\n",
       "      <td>0.045853</td>\n",
       "      <td>0.045868</td>\n",
       "      <td>0.045858</td>\n",
       "      <td>0.045850</td>\n",
       "      <td>0.045776</td>\n",
       "      <td>0.045684</td>\n",
       "      <td>0.045719</td>\n",
       "      <td>0.045772</td>\n",
       "      <td>0.045796</td>\n",
       "    </tr>\n",
       "    <tr>\n",
       "      <td>min</td>\n",
       "      <td>96.0</td>\n",
       "      <td>0.000000</td>\n",
       "      <td>0.000000</td>\n",
       "      <td>0.000000</td>\n",
       "      <td>0.000000</td>\n",
       "      <td>0.000000</td>\n",
       "      <td>0.000000</td>\n",
       "      <td>0.000000</td>\n",
       "      <td>0.000000</td>\n",
       "      <td>0.000000</td>\n",
       "      <td>...</td>\n",
       "      <td>0.000000</td>\n",
       "      <td>0.000000</td>\n",
       "      <td>0.000000</td>\n",
       "      <td>0.000000</td>\n",
       "      <td>0.000000</td>\n",
       "      <td>0.000000</td>\n",
       "      <td>0.000000</td>\n",
       "      <td>0.000000</td>\n",
       "      <td>0.000000</td>\n",
       "      <td>0.000000</td>\n",
       "    </tr>\n",
       "    <tr>\n",
       "      <td>25%</td>\n",
       "      <td>96.0</td>\n",
       "      <td>0.031657</td>\n",
       "      <td>0.032558</td>\n",
       "      <td>0.033573</td>\n",
       "      <td>0.033706</td>\n",
       "      <td>0.033651</td>\n",
       "      <td>0.033990</td>\n",
       "      <td>0.034466</td>\n",
       "      <td>0.035140</td>\n",
       "      <td>0.035369</td>\n",
       "      <td>...</td>\n",
       "      <td>0.024780</td>\n",
       "      <td>0.025737</td>\n",
       "      <td>0.026056</td>\n",
       "      <td>0.026727</td>\n",
       "      <td>0.027279</td>\n",
       "      <td>0.028486</td>\n",
       "      <td>0.029450</td>\n",
       "      <td>0.030302</td>\n",
       "      <td>0.030752</td>\n",
       "      <td>0.031641</td>\n",
       "    </tr>\n",
       "    <tr>\n",
       "      <td>50%</td>\n",
       "      <td>96.0</td>\n",
       "      <td>0.065182</td>\n",
       "      <td>0.066047</td>\n",
       "      <td>0.065614</td>\n",
       "      <td>0.066667</td>\n",
       "      <td>0.067058</td>\n",
       "      <td>0.067402</td>\n",
       "      <td>0.067839</td>\n",
       "      <td>0.067654</td>\n",
       "      <td>0.068189</td>\n",
       "      <td>...</td>\n",
       "      <td>0.059247</td>\n",
       "      <td>0.059888</td>\n",
       "      <td>0.060578</td>\n",
       "      <td>0.060962</td>\n",
       "      <td>0.062035</td>\n",
       "      <td>0.062512</td>\n",
       "      <td>0.063326</td>\n",
       "      <td>0.063701</td>\n",
       "      <td>0.064341</td>\n",
       "      <td>0.064310</td>\n",
       "    </tr>\n",
       "    <tr>\n",
       "      <td>75%</td>\n",
       "      <td>96.0</td>\n",
       "      <td>0.101995</td>\n",
       "      <td>0.102673</td>\n",
       "      <td>0.102813</td>\n",
       "      <td>0.103216</td>\n",
       "      <td>0.103351</td>\n",
       "      <td>0.104260</td>\n",
       "      <td>0.104523</td>\n",
       "      <td>0.104411</td>\n",
       "      <td>0.103886</td>\n",
       "      <td>...</td>\n",
       "      <td>0.096667</td>\n",
       "      <td>0.097672</td>\n",
       "      <td>0.098145</td>\n",
       "      <td>0.098493</td>\n",
       "      <td>0.098953</td>\n",
       "      <td>0.099504</td>\n",
       "      <td>0.100214</td>\n",
       "      <td>0.100729</td>\n",
       "      <td>0.101805</td>\n",
       "      <td>0.101830</td>\n",
       "    </tr>\n",
       "    <tr>\n",
       "      <td>max</td>\n",
       "      <td>96.0</td>\n",
       "      <td>0.221771</td>\n",
       "      <td>0.219375</td>\n",
       "      <td>0.216979</td>\n",
       "      <td>0.217500</td>\n",
       "      <td>0.216252</td>\n",
       "      <td>0.216579</td>\n",
       "      <td>0.216857</td>\n",
       "      <td>0.215253</td>\n",
       "      <td>0.213049</td>\n",
       "      <td>...</td>\n",
       "      <td>0.211533</td>\n",
       "      <td>0.211146</td>\n",
       "      <td>0.214167</td>\n",
       "      <td>0.216250</td>\n",
       "      <td>0.218437</td>\n",
       "      <td>0.220208</td>\n",
       "      <td>0.220625</td>\n",
       "      <td>0.222812</td>\n",
       "      <td>0.222917</td>\n",
       "      <td>0.222917</td>\n",
       "    </tr>\n",
       "  </tbody>\n",
       "</table>\n",
       "<p>8 rows × 97 columns</p>\n",
       "</div>"
      ],
      "text/plain": [
       "       Values        00:00        00:15        00:30        00:45  \\\n",
       "count  1202.0  1201.000000  1201.000000  1200.000000  1198.000000   \n",
       "mean     96.0     0.068573     0.069090     0.069483     0.069916   \n",
       "std       0.0     0.045886     0.045867     0.045771     0.045775   \n",
       "min      96.0     0.000000     0.000000     0.000000     0.000000   \n",
       "25%      96.0     0.031657     0.032558     0.033573     0.033706   \n",
       "50%      96.0     0.065182     0.066047     0.065614     0.066667   \n",
       "75%      96.0     0.101995     0.102673     0.102813     0.103216   \n",
       "max      96.0     0.221771     0.219375     0.216979     0.217500   \n",
       "\n",
       "             01:00        01:15        01:30        01:45        02:00  ...  \\\n",
       "count  1198.000000  1198.000000  1198.000000  1200.000000  1200.000000  ...   \n",
       "mean      0.070368     0.070830     0.071209     0.071484     0.071762  ...   \n",
       "std       0.045835     0.045816     0.045781     0.045769     0.045754  ...   \n",
       "min       0.000000     0.000000     0.000000     0.000000     0.000000  ...   \n",
       "25%       0.033651     0.033990     0.034466     0.035140     0.035369  ...   \n",
       "50%       0.067058     0.067402     0.067839     0.067654     0.068189  ...   \n",
       "75%       0.103351     0.104260     0.104523     0.104411     0.103886  ...   \n",
       "max       0.216252     0.216579     0.216857     0.215253     0.213049  ...   \n",
       "\n",
       "             21:30        21:45        22:00        22:15        22:30  \\\n",
       "count  1202.000000  1202.000000  1202.000000  1202.000000  1202.000000   \n",
       "mean      0.063419     0.063933     0.064498     0.065072     0.065661   \n",
       "std       0.045910     0.045853     0.045868     0.045858     0.045850   \n",
       "min       0.000000     0.000000     0.000000     0.000000     0.000000   \n",
       "25%       0.024780     0.025737     0.026056     0.026727     0.027279   \n",
       "50%       0.059247     0.059888     0.060578     0.060962     0.062035   \n",
       "75%       0.096667     0.097672     0.098145     0.098493     0.098953   \n",
       "max       0.211533     0.211146     0.214167     0.216250     0.218437   \n",
       "\n",
       "             22:45        23:00        23:15        23:30        23:45  \n",
       "count  1202.000000  1202.000000  1202.000000  1202.000000  1202.000000  \n",
       "mean      0.066181     0.066683     0.067251     0.067722     0.068147  \n",
       "std       0.045776     0.045684     0.045719     0.045772     0.045796  \n",
       "min       0.000000     0.000000     0.000000     0.000000     0.000000  \n",
       "25%       0.028486     0.029450     0.030302     0.030752     0.031641  \n",
       "50%       0.062512     0.063326     0.063701     0.064341     0.064310  \n",
       "75%       0.099504     0.100214     0.100729     0.101805     0.101830  \n",
       "max       0.220208     0.220625     0.222812     0.222917     0.222917  \n",
       "\n",
       "[8 rows x 97 columns]"
      ]
     },
     "execution_count": 6,
     "metadata": {},
     "output_type": "execute_result"
    }
   ],
   "source": [
    "# Generate descriptive statistics\n",
    "df.describe() # describe all numeric columns"
   ]
  },
  {
   "cell_type": "code",
   "execution_count": 7,
   "metadata": {},
   "outputs": [
    {
     "data": {
      "text/plain": [
       "Date       object\n",
       "Values      int64\n",
       "00:00     float64\n",
       "00:15     float64\n",
       "00:30     float64\n",
       "           ...   \n",
       "22:45     float64\n",
       "23:00     float64\n",
       "23:15     float64\n",
       "23:30     float64\n",
       "23:45     float64\n",
       "Length: 98, dtype: object"
      ]
     },
     "execution_count": 7,
     "metadata": {},
     "output_type": "execute_result"
    }
   ],
   "source": [
    "# Print a concise summary of a DataFrame\n",
    "# df.info()  # prints out 98 lines so commenting out\n",
    "df.dtypes \n",
    "# first 2 columns are date and integer. rest of the columns contain floating values"
   ]
  },
  {
   "cell_type": "code",
   "execution_count": 8,
   "metadata": {},
   "outputs": [
    {
     "data": {
      "image/png": "[encoded data removed]",
      "text/plain": [
       "<Figure size 1800x360 with 1 Axes>"
      ]
     },
     "metadata": {
      "needs_background": "light"
     },
     "output_type": "display_data"
    }
   ],
   "source": [
    "# box plot of 15-min interval readings\n",
    "plt.figure(figsize=(25, 5))\n",
    "fig = sns.boxplot(x=\"variable\", y=\"value\", data=pd.melt(df.iloc[:,2:]))\n",
    "fig.set_xticklabels(fig.get_xticklabels(), rotation=90)\n",
    "fig.set(xlabel='Time interval', ylabel='HDD Values')\n",
    "plt.show()"
   ]
  },
  {
   "cell_type": "markdown",
   "metadata": {},
   "source": [
    "## Data wrangling"
   ]
  },
  {
   "cell_type": "code",
   "execution_count": 9,
   "metadata": {},
   "outputs": [
    {
     "data": {
      "text/plain": [
       "119"
      ]
     },
     "execution_count": 9,
     "metadata": {},
     "output_type": "execute_result"
    }
   ],
   "source": [
    "# find out many values are missing \n",
    "df.isna().sum().sum()\n",
    "# total of 119 missing values out of 1202 x 98 observations ~ 118K , only a very small percentage has missing values"
   ]
  },
  {
   "cell_type": "code",
   "execution_count": 10,
   "metadata": {},
   "outputs": [
    {
     "data": {
      "text/plain": [
       "0"
      ]
     },
     "execution_count": 10,
     "metadata": {},
     "output_type": "execute_result"
    }
   ],
   "source": [
    "# check if date column has missing values\n",
    "df['Date'].isnull().sum()\n",
    "# no dates are missing"
   ]
  },
  {
   "cell_type": "code",
   "execution_count": 11,
   "metadata": {},
   "outputs": [
    {
     "data": {
      "text/plain": [
       "0"
      ]
     },
     "execution_count": 11,
     "metadata": {},
     "output_type": "execute_result"
    }
   ],
   "source": [
    "# check if value column has any missing values\n",
    "df['Values'].isnull().sum()\n",
    "# no missing data in Values column either"
   ]
  },
  {
   "cell_type": "code",
   "execution_count": 12,
   "metadata": {},
   "outputs": [
    {
     "data": {
      "text/html": [
       "<div>\n",
       "<style scoped>\n",
       "    .dataframe tbody tr th:only-of-type {\n",
       "        vertical-align: middle;\n",
       "    }\n",
       "\n",
       "    .dataframe tbody tr th {\n",
       "        vertical-align: top;\n",
       "    }\n",
       "\n",
       "    .dataframe thead th {\n",
       "        text-align: right;\n",
       "    }\n",
       "</style>\n",
       "<table border=\"1\" class=\"dataframe\">\n",
       "  <thead>\n",
       "    <tr style=\"text-align: right;\">\n",
       "      <th></th>\n",
       "      <th>Date</th>\n",
       "      <th>Values</th>\n",
       "      <th>00:00</th>\n",
       "      <th>00:15</th>\n",
       "      <th>00:30</th>\n",
       "      <th>00:45</th>\n",
       "      <th>01:00</th>\n",
       "      <th>01:15</th>\n",
       "      <th>01:30</th>\n",
       "      <th>01:45</th>\n",
       "      <th>...</th>\n",
       "      <th>21:30</th>\n",
       "      <th>21:45</th>\n",
       "      <th>22:00</th>\n",
       "      <th>22:15</th>\n",
       "      <th>22:30</th>\n",
       "      <th>22:45</th>\n",
       "      <th>23:00</th>\n",
       "      <th>23:15</th>\n",
       "      <th>23:30</th>\n",
       "      <th>23:45</th>\n",
       "    </tr>\n",
       "  </thead>\n",
       "  <tbody>\n",
       "    <tr>\n",
       "      <td>0</td>\n",
       "      <td>07/11/2009</td>\n",
       "      <td>96</td>\n",
       "      <td>NaN</td>\n",
       "      <td>NaN</td>\n",
       "      <td>NaN</td>\n",
       "      <td>NaN</td>\n",
       "      <td>NaN</td>\n",
       "      <td>NaN</td>\n",
       "      <td>NaN</td>\n",
       "      <td>NaN</td>\n",
       "      <td>...</td>\n",
       "      <td>0.096250</td>\n",
       "      <td>0.095937</td>\n",
       "      <td>0.098854</td>\n",
       "      <td>0.101354</td>\n",
       "      <td>0.103646</td>\n",
       "      <td>0.105104</td>\n",
       "      <td>0.106146</td>\n",
       "      <td>0.106979</td>\n",
       "      <td>0.107604</td>\n",
       "      <td>0.107917</td>\n",
       "    </tr>\n",
       "    <tr>\n",
       "      <td>23</td>\n",
       "      <td>30/11/2009</td>\n",
       "      <td>96</td>\n",
       "      <td>0.125521</td>\n",
       "      <td>0.129271</td>\n",
       "      <td>0.130208</td>\n",
       "      <td>0.131042</td>\n",
       "      <td>0.132188</td>\n",
       "      <td>0.132500</td>\n",
       "      <td>0.132917</td>\n",
       "      <td>0.134167</td>\n",
       "      <td>...</td>\n",
       "      <td>0.148542</td>\n",
       "      <td>0.148750</td>\n",
       "      <td>0.145417</td>\n",
       "      <td>0.143438</td>\n",
       "      <td>0.143542</td>\n",
       "      <td>0.143542</td>\n",
       "      <td>0.144167</td>\n",
       "      <td>0.144167</td>\n",
       "      <td>0.148854</td>\n",
       "      <td>0.153750</td>\n",
       "    </tr>\n",
       "    <tr>\n",
       "      <td>24</td>\n",
       "      <td>01/12/2009</td>\n",
       "      <td>96</td>\n",
       "      <td>0.152083</td>\n",
       "      <td>0.151458</td>\n",
       "      <td>NaN</td>\n",
       "      <td>NaN</td>\n",
       "      <td>NaN</td>\n",
       "      <td>NaN</td>\n",
       "      <td>NaN</td>\n",
       "      <td>NaN</td>\n",
       "      <td>...</td>\n",
       "      <td>0.071562</td>\n",
       "      <td>0.075938</td>\n",
       "      <td>0.081562</td>\n",
       "      <td>0.084792</td>\n",
       "      <td>0.087187</td>\n",
       "      <td>0.087813</td>\n",
       "      <td>0.088229</td>\n",
       "      <td>0.087187</td>\n",
       "      <td>0.089375</td>\n",
       "      <td>0.091354</td>\n",
       "    </tr>\n",
       "    <tr>\n",
       "      <td>32</td>\n",
       "      <td>09/12/2009</td>\n",
       "      <td>96</td>\n",
       "      <td>0.053646</td>\n",
       "      <td>0.055313</td>\n",
       "      <td>0.055833</td>\n",
       "      <td>0.055625</td>\n",
       "      <td>0.056458</td>\n",
       "      <td>0.057083</td>\n",
       "      <td>0.058542</td>\n",
       "      <td>0.058437</td>\n",
       "      <td>...</td>\n",
       "      <td>0.088021</td>\n",
       "      <td>0.088229</td>\n",
       "      <td>0.088125</td>\n",
       "      <td>0.089271</td>\n",
       "      <td>0.089271</td>\n",
       "      <td>0.090104</td>\n",
       "      <td>0.091250</td>\n",
       "      <td>0.092396</td>\n",
       "      <td>0.093437</td>\n",
       "      <td>0.094479</td>\n",
       "    </tr>\n",
       "    <tr>\n",
       "      <td>68</td>\n",
       "      <td>14/01/2010</td>\n",
       "      <td>96</td>\n",
       "      <td>0.125833</td>\n",
       "      <td>0.128750</td>\n",
       "      <td>0.130104</td>\n",
       "      <td>0.129271</td>\n",
       "      <td>0.129896</td>\n",
       "      <td>0.134896</td>\n",
       "      <td>0.139375</td>\n",
       "      <td>0.144167</td>\n",
       "      <td>...</td>\n",
       "      <td>0.111458</td>\n",
       "      <td>0.108958</td>\n",
       "      <td>0.109167</td>\n",
       "      <td>0.108021</td>\n",
       "      <td>0.105000</td>\n",
       "      <td>0.102812</td>\n",
       "      <td>0.098333</td>\n",
       "      <td>0.095417</td>\n",
       "      <td>0.093437</td>\n",
       "      <td>0.092708</td>\n",
       "    </tr>\n",
       "    <tr>\n",
       "      <td>683</td>\n",
       "      <td>21/09/2011</td>\n",
       "      <td>96</td>\n",
       "      <td>0.045041</td>\n",
       "      <td>0.047922</td>\n",
       "      <td>0.048698</td>\n",
       "      <td>0.049489</td>\n",
       "      <td>0.050359</td>\n",
       "      <td>0.050993</td>\n",
       "      <td>0.051131</td>\n",
       "      <td>0.051318</td>\n",
       "      <td>...</td>\n",
       "      <td>0.043357</td>\n",
       "      <td>0.043813</td>\n",
       "      <td>0.044346</td>\n",
       "      <td>0.044423</td>\n",
       "      <td>0.043834</td>\n",
       "      <td>0.045131</td>\n",
       "      <td>0.047165</td>\n",
       "      <td>0.048516</td>\n",
       "      <td>0.050299</td>\n",
       "      <td>0.050752</td>\n",
       "    </tr>\n",
       "    <tr>\n",
       "      <td>722</td>\n",
       "      <td>30/10/2011</td>\n",
       "      <td>96</td>\n",
       "      <td>0.040349</td>\n",
       "      <td>0.039386</td>\n",
       "      <td>0.037034</td>\n",
       "      <td>NaN</td>\n",
       "      <td>NaN</td>\n",
       "      <td>NaN</td>\n",
       "      <td>NaN</td>\n",
       "      <td>0.034762</td>\n",
       "      <td>...</td>\n",
       "      <td>0.010910</td>\n",
       "      <td>0.010751</td>\n",
       "      <td>0.011269</td>\n",
       "      <td>0.014303</td>\n",
       "      <td>0.015343</td>\n",
       "      <td>0.014905</td>\n",
       "      <td>0.014571</td>\n",
       "      <td>0.013212</td>\n",
       "      <td>0.013205</td>\n",
       "      <td>0.015514</td>\n",
       "    </tr>\n",
       "    <tr>\n",
       "      <td>793</td>\n",
       "      <td>09/01/2012</td>\n",
       "      <td>96</td>\n",
       "      <td>0.055513</td>\n",
       "      <td>0.055991</td>\n",
       "      <td>0.055236</td>\n",
       "      <td>0.054862</td>\n",
       "      <td>0.055591</td>\n",
       "      <td>0.056324</td>\n",
       "      <td>0.056096</td>\n",
       "      <td>0.057994</td>\n",
       "      <td>...</td>\n",
       "      <td>0.080478</td>\n",
       "      <td>0.079767</td>\n",
       "      <td>0.079091</td>\n",
       "      <td>0.078261</td>\n",
       "      <td>0.078062</td>\n",
       "      <td>0.078088</td>\n",
       "      <td>0.077993</td>\n",
       "      <td>0.078751</td>\n",
       "      <td>0.078369</td>\n",
       "      <td>0.079149</td>\n",
       "    </tr>\n",
       "    <tr>\n",
       "      <td>891</td>\n",
       "      <td>16/04/2012</td>\n",
       "      <td>96</td>\n",
       "      <td>0.101918</td>\n",
       "      <td>0.101953</td>\n",
       "      <td>0.103146</td>\n",
       "      <td>0.104129</td>\n",
       "      <td>0.104749</td>\n",
       "      <td>0.105173</td>\n",
       "      <td>0.103362</td>\n",
       "      <td>0.102619</td>\n",
       "      <td>...</td>\n",
       "      <td>0.065768</td>\n",
       "      <td>0.064369</td>\n",
       "      <td>0.065288</td>\n",
       "      <td>0.065093</td>\n",
       "      <td>0.066454</td>\n",
       "      <td>0.065696</td>\n",
       "      <td>0.063404</td>\n",
       "      <td>0.062938</td>\n",
       "      <td>0.061739</td>\n",
       "      <td>0.060999</td>\n",
       "    </tr>\n",
       "    <tr>\n",
       "      <td>1086</td>\n",
       "      <td>28/10/2012</td>\n",
       "      <td>96</td>\n",
       "      <td>0.094084</td>\n",
       "      <td>0.092049</td>\n",
       "      <td>0.089251</td>\n",
       "      <td>NaN</td>\n",
       "      <td>NaN</td>\n",
       "      <td>NaN</td>\n",
       "      <td>NaN</td>\n",
       "      <td>0.087206</td>\n",
       "      <td>...</td>\n",
       "      <td>0.074546</td>\n",
       "      <td>0.074752</td>\n",
       "      <td>0.074784</td>\n",
       "      <td>0.074123</td>\n",
       "      <td>0.075947</td>\n",
       "      <td>0.078298</td>\n",
       "      <td>0.079306</td>\n",
       "      <td>0.079618</td>\n",
       "      <td>0.080231</td>\n",
       "      <td>0.080620</td>\n",
       "    </tr>\n",
       "  </tbody>\n",
       "</table>\n",
       "<p>10 rows × 98 columns</p>\n",
       "</div>"
      ],
      "text/plain": [
       "            Date  Values     00:00     00:15     00:30     00:45     01:00  \\\n",
       "0     07/11/2009      96       NaN       NaN       NaN       NaN       NaN   \n",
       "23    30/11/2009      96  0.125521  0.129271  0.130208  0.131042  0.132188   \n",
       "24    01/12/2009      96  0.152083  0.151458       NaN       NaN       NaN   \n",
       "32    09/12/2009      96  0.053646  0.055313  0.055833  0.055625  0.056458   \n",
       "68    14/01/2010      96  0.125833  0.128750  0.130104  0.129271  0.129896   \n",
       "683   21/09/2011      96  0.045041  0.047922  0.048698  0.049489  0.050359   \n",
       "722   30/10/2011      96  0.040349  0.039386  0.037034       NaN       NaN   \n",
       "793   09/01/2012      96  0.055513  0.055991  0.055236  0.054862  0.055591   \n",
       "891   16/04/2012      96  0.101918  0.101953  0.103146  0.104129  0.104749   \n",
       "1086  28/10/2012      96  0.094084  0.092049  0.089251       NaN       NaN   \n",
       "\n",
       "         01:15     01:30     01:45  ...     21:30     21:45     22:00  \\\n",
       "0          NaN       NaN       NaN  ...  0.096250  0.095937  0.098854   \n",
       "23    0.132500  0.132917  0.134167  ...  0.148542  0.148750  0.145417   \n",
       "24         NaN       NaN       NaN  ...  0.071562  0.075938  0.081562   \n",
       "32    0.057083  0.058542  0.058437  ...  0.088021  0.088229  0.088125   \n",
       "68    0.134896  0.139375  0.144167  ...  0.111458  0.108958  0.109167   \n",
       "683   0.050993  0.051131  0.051318  ...  0.043357  0.043813  0.044346   \n",
       "722        NaN       NaN  0.034762  ...  0.010910  0.010751  0.011269   \n",
       "793   0.056324  0.056096  0.057994  ...  0.080478  0.079767  0.079091   \n",
       "891   0.105173  0.103362  0.102619  ...  0.065768  0.064369  0.065288   \n",
       "1086       NaN       NaN  0.087206  ...  0.074546  0.074752  0.074784   \n",
       "\n",
       "         22:15     22:30     22:45     23:00     23:15     23:30     23:45  \n",
       "0     0.101354  0.103646  0.105104  0.106146  0.106979  0.107604  0.107917  \n",
       "23    0.143438  0.143542  0.143542  0.144167  0.144167  0.148854  0.153750  \n",
       "24    0.084792  0.087187  0.087813  0.088229  0.087187  0.089375  0.091354  \n",
       "32    0.089271  0.089271  0.090104  0.091250  0.092396  0.093437  0.094479  \n",
       "68    0.108021  0.105000  0.102812  0.098333  0.095417  0.093437  0.092708  \n",
       "683   0.044423  0.043834  0.045131  0.047165  0.048516  0.050299  0.050752  \n",
       "722   0.014303  0.015343  0.014905  0.014571  0.013212  0.013205  0.015514  \n",
       "793   0.078261  0.078062  0.078088  0.077993  0.078751  0.078369  0.079149  \n",
       "891   0.065093  0.066454  0.065696  0.063404  0.062938  0.061739  0.060999  \n",
       "1086  0.074123  0.075947  0.078298  0.079306  0.079618  0.080231  0.080620  \n",
       "\n",
       "[10 rows x 98 columns]"
      ]
     },
     "execution_count": 12,
     "metadata": {},
     "output_type": "execute_result"
    }
   ],
   "source": [
    "# find out the rows with missing values (i.e at least one columns has a value missing)\n",
    "df[df.isna().any(axis=1)]\n",
    "# 10 rows have some missing values"
   ]
  },
  {
   "cell_type": "code",
   "execution_count": 13,
   "metadata": {},
   "outputs": [
    {
     "data": {
      "text/plain": [
       "0       34\n",
       "23       1\n",
       "24      67\n",
       "32       1\n",
       "68       1\n",
       "683      1\n",
       "722      4\n",
       "793      1\n",
       "891      1\n",
       "1086     8\n",
       "dtype: int64"
      ]
     },
     "execution_count": 13,
     "metadata": {},
     "output_type": "execute_result"
    }
   ],
   "source": [
    "# find out many missing values in each of the 10 rows above \n",
    "df[df.isna().any(axis=1)].isna().sum(axis=1)\n",
    "# out of the 119 missing values, 2 rows (index 0 and 24) account for 101 (34+67). "
   ]
  },
  {
   "cell_type": "code",
   "execution_count": 14,
   "metadata": {},
   "outputs": [],
   "source": [
    "# because quite of lot of values are missing in these 2 rows, we will use mean values of the columns to replace the values of the these 2 rows\n",
    "df.iloc[[0,24]] = df.iloc[[0,24]].fillna(df.mean())"
   ]
  },
  {
   "cell_type": "code",
   "execution_count": 15,
   "metadata": {},
   "outputs": [
    {
     "data": {
      "text/plain": [
       "23      1\n",
       "32      1\n",
       "68      1\n",
       "683     1\n",
       "722     4\n",
       "793     1\n",
       "891     1\n",
       "1086    8\n",
       "dtype: int64"
      ]
     },
     "execution_count": 15,
     "metadata": {},
     "output_type": "execute_result"
    }
   ],
   "source": [
    "#check these 2 rows are now removed from rows with missing values before dealing with the rest\n",
    "df[df.isna().any(axis=1)].isna().sum(axis=1)\n",
    "# 18 missing values remaining in 8 rows"
   ]
  },
  {
   "cell_type": "code",
   "execution_count": 16,
   "metadata": {},
   "outputs": [
    {
     "data": {
      "text/html": [
       "<div>\n",
       "<style scoped>\n",
       "    .dataframe tbody tr th:only-of-type {\n",
       "        vertical-align: middle;\n",
       "    }\n",
       "\n",
       "    .dataframe tbody tr th {\n",
       "        vertical-align: top;\n",
       "    }\n",
       "\n",
       "    .dataframe thead th {\n",
       "        text-align: right;\n",
       "    }\n",
       "</style>\n",
       "<table border=\"1\" class=\"dataframe\">\n",
       "  <thead>\n",
       "    <tr style=\"text-align: right;\">\n",
       "      <th></th>\n",
       "      <th>Date</th>\n",
       "      <th>Values</th>\n",
       "      <th>00:00</th>\n",
       "      <th>00:15</th>\n",
       "      <th>00:30</th>\n",
       "      <th>00:45</th>\n",
       "      <th>01:00</th>\n",
       "      <th>01:15</th>\n",
       "      <th>01:30</th>\n",
       "      <th>01:45</th>\n",
       "      <th>...</th>\n",
       "      <th>21:30</th>\n",
       "      <th>21:45</th>\n",
       "      <th>22:00</th>\n",
       "      <th>22:15</th>\n",
       "      <th>22:30</th>\n",
       "      <th>22:45</th>\n",
       "      <th>23:00</th>\n",
       "      <th>23:15</th>\n",
       "      <th>23:30</th>\n",
       "      <th>23:45</th>\n",
       "    </tr>\n",
       "  </thead>\n",
       "  <tbody>\n",
       "    <tr>\n",
       "      <td>0</td>\n",
       "      <td>07/11/2009</td>\n",
       "      <td>96</td>\n",
       "      <td>0.068573</td>\n",
       "      <td>0.069090</td>\n",
       "      <td>0.069483</td>\n",
       "      <td>0.069916</td>\n",
       "      <td>0.070368</td>\n",
       "      <td>0.070830</td>\n",
       "      <td>0.071209</td>\n",
       "      <td>0.071484</td>\n",
       "      <td>...</td>\n",
       "      <td>0.096250</td>\n",
       "      <td>0.095937</td>\n",
       "      <td>0.098854</td>\n",
       "      <td>0.101354</td>\n",
       "      <td>0.103646</td>\n",
       "      <td>0.105104</td>\n",
       "      <td>0.106146</td>\n",
       "      <td>0.106979</td>\n",
       "      <td>0.107604</td>\n",
       "      <td>0.107917</td>\n",
       "    </tr>\n",
       "    <tr>\n",
       "      <td>1</td>\n",
       "      <td>08/11/2009</td>\n",
       "      <td>96</td>\n",
       "      <td>0.106875</td>\n",
       "      <td>0.107708</td>\n",
       "      <td>0.107708</td>\n",
       "      <td>0.106771</td>\n",
       "      <td>0.105729</td>\n",
       "      <td>0.105104</td>\n",
       "      <td>0.106042</td>\n",
       "      <td>0.103854</td>\n",
       "      <td>...</td>\n",
       "      <td>0.106771</td>\n",
       "      <td>0.106458</td>\n",
       "      <td>0.106771</td>\n",
       "      <td>0.106667</td>\n",
       "      <td>0.108854</td>\n",
       "      <td>0.110417</td>\n",
       "      <td>0.111562</td>\n",
       "      <td>0.110417</td>\n",
       "      <td>0.112708</td>\n",
       "      <td>0.115938</td>\n",
       "    </tr>\n",
       "    <tr>\n",
       "      <td>2</td>\n",
       "      <td>09/11/2009</td>\n",
       "      <td>96</td>\n",
       "      <td>0.118958</td>\n",
       "      <td>0.117708</td>\n",
       "      <td>0.116563</td>\n",
       "      <td>0.117292</td>\n",
       "      <td>0.116979</td>\n",
       "      <td>0.118229</td>\n",
       "      <td>0.117500</td>\n",
       "      <td>0.116979</td>\n",
       "      <td>...</td>\n",
       "      <td>0.065313</td>\n",
       "      <td>0.065208</td>\n",
       "      <td>0.065208</td>\n",
       "      <td>0.065313</td>\n",
       "      <td>0.065313</td>\n",
       "      <td>0.065833</td>\n",
       "      <td>0.065729</td>\n",
       "      <td>0.065313</td>\n",
       "      <td>0.064792</td>\n",
       "      <td>0.064271</td>\n",
       "    </tr>\n",
       "    <tr>\n",
       "      <td>3</td>\n",
       "      <td>10/11/2009</td>\n",
       "      <td>96</td>\n",
       "      <td>0.063750</td>\n",
       "      <td>0.063542</td>\n",
       "      <td>0.062708</td>\n",
       "      <td>0.062812</td>\n",
       "      <td>0.063021</td>\n",
       "      <td>0.063021</td>\n",
       "      <td>0.061979</td>\n",
       "      <td>0.060833</td>\n",
       "      <td>...</td>\n",
       "      <td>0.104688</td>\n",
       "      <td>0.105729</td>\n",
       "      <td>0.106979</td>\n",
       "      <td>0.108542</td>\n",
       "      <td>0.110000</td>\n",
       "      <td>0.111979</td>\n",
       "      <td>0.112917</td>\n",
       "      <td>0.112292</td>\n",
       "      <td>0.114062</td>\n",
       "      <td>0.116563</td>\n",
       "    </tr>\n",
       "    <tr>\n",
       "      <td>4</td>\n",
       "      <td>11/11/2009</td>\n",
       "      <td>96</td>\n",
       "      <td>0.118021</td>\n",
       "      <td>0.118333</td>\n",
       "      <td>0.120208</td>\n",
       "      <td>0.119479</td>\n",
       "      <td>0.117708</td>\n",
       "      <td>0.117396</td>\n",
       "      <td>0.116667</td>\n",
       "      <td>0.114479</td>\n",
       "      <td>...</td>\n",
       "      <td>0.052708</td>\n",
       "      <td>0.052292</td>\n",
       "      <td>0.052396</td>\n",
       "      <td>0.053229</td>\n",
       "      <td>0.056458</td>\n",
       "      <td>0.059479</td>\n",
       "      <td>0.065313</td>\n",
       "      <td>0.067396</td>\n",
       "      <td>0.068437</td>\n",
       "      <td>0.068542</td>\n",
       "    </tr>\n",
       "  </tbody>\n",
       "</table>\n",
       "<p>5 rows × 98 columns</p>\n",
       "</div>"
      ],
      "text/plain": [
       "         Date  Values     00:00     00:15     00:30     00:45     01:00  \\\n",
       "0  07/11/2009      96  0.068573  0.069090  0.069483  0.069916  0.070368   \n",
       "1  08/11/2009      96  0.106875  0.107708  0.107708  0.106771  0.105729   \n",
       "2  09/11/2009      96  0.118958  0.117708  0.116563  0.117292  0.116979   \n",
       "3  10/11/2009      96  0.063750  0.063542  0.062708  0.062812  0.063021   \n",
       "4  11/11/2009      96  0.118021  0.118333  0.120208  0.119479  0.117708   \n",
       "\n",
       "      01:15     01:30     01:45  ...     21:30     21:45     22:00     22:15  \\\n",
       "0  0.070830  0.071209  0.071484  ...  0.096250  0.095937  0.098854  0.101354   \n",
       "1  0.105104  0.106042  0.103854  ...  0.106771  0.106458  0.106771  0.106667   \n",
       "2  0.118229  0.117500  0.116979  ...  0.065313  0.065208  0.065208  0.065313   \n",
       "3  0.063021  0.061979  0.060833  ...  0.104688  0.105729  0.106979  0.108542   \n",
       "4  0.117396  0.116667  0.114479  ...  0.052708  0.052292  0.052396  0.053229   \n",
       "\n",
       "      22:30     22:45     23:00     23:15     23:30     23:45  \n",
       "0  0.103646  0.105104  0.106146  0.106979  0.107604  0.107917  \n",
       "1  0.108854  0.110417  0.111562  0.110417  0.112708  0.115938  \n",
       "2  0.065313  0.065833  0.065729  0.065313  0.064792  0.064271  \n",
       "3  0.110000  0.111979  0.112917  0.112292  0.114062  0.116563  \n",
       "4  0.056458  0.059479  0.065313  0.067396  0.068437  0.068542  \n",
       "\n",
       "[5 rows x 98 columns]"
      ]
     },
     "execution_count": 16,
     "metadata": {},
     "output_type": "execute_result"
    }
   ],
   "source": [
    "# 15-min interval measurements should be close to each other. use backfill method to fill the remaining missing values from the adjacent column in the dataset\n",
    "# bfill propagates the first observed non-null value backward until another non-null value is met\n",
    "# df = df.bfill(axis = 1) # n\n",
    "df.fillna(method='bfill', inplace=True)\n",
    "df.head()"
   ]
  },
  {
   "cell_type": "code",
   "execution_count": 17,
   "metadata": {},
   "outputs": [
    {
     "data": {
      "text/plain": [
       "0"
      ]
     },
     "execution_count": 17,
     "metadata": {},
     "output_type": "execute_result"
    }
   ],
   "source": [
    "#verify all missing values are dealth with \n",
    "df.isna().sum().sum()"
   ]
  },
  {
   "cell_type": "code",
   "execution_count": 18,
   "metadata": {},
   "outputs": [
    {
     "data": {
      "text/plain": [
       "(1202, 98)"
      ]
     },
     "execution_count": 18,
     "metadata": {},
     "output_type": "execute_result"
    }
   ],
   "source": [
    "# get dimensions of clean data,  should be the same as original dataframe\n",
    "df.shape"
   ]
  },
  {
   "cell_type": "markdown",
   "metadata": {},
   "source": [
    "**Data Transformation and Enrichment**"
   ]
  },
  {
   "cell_type": "code",
   "execution_count": 22,
   "metadata": {},
   "outputs": [],
   "source": [
    "# we will create 2 dataframes: one for daily data and one hourly data using the 15 mins records"
   ]
  },
  {
   "cell_type": "code",
   "execution_count": 19,
   "metadata": {},
   "outputs": [],
   "source": [
    "# daily Heating degree days\n",
    "# get a list of all columns in data frame\n",
    "col_names = list(df.columns)\n",
    "\n",
    "# Heating degree day for the a particular day is the sum of all values from 00:00 to 23:45\n",
    "# remove columns 'date' and 'values' and sum the rest \n",
    "sum_columns = col_names[2:]\n",
    "\n",
    "#create a new empty dataframe for daily data\n",
    "df_daily = pd.DataFrame() \n",
    "\n",
    "# sum columns 00.00 to 23.45 and put the value in a new column hdd (stands for heating degree day)\n",
    "df_daily['Date'] = df['Date']\n",
    "df_daily['hdd'] = df[sum_columns].sum(axis=1)"
   ]
  },
  {
   "cell_type": "code",
   "execution_count": 20,
   "metadata": {},
   "outputs": [
    {
     "data": {
      "text/html": [
       "<div>\n",
       "<style scoped>\n",
       "    .dataframe tbody tr th:only-of-type {\n",
       "        vertical-align: middle;\n",
       "    }\n",
       "\n",
       "    .dataframe tbody tr th {\n",
       "        vertical-align: top;\n",
       "    }\n",
       "\n",
       "    .dataframe thead th {\n",
       "        text-align: right;\n",
       "    }\n",
       "</style>\n",
       "<table border=\"1\" class=\"dataframe\">\n",
       "  <thead>\n",
       "    <tr style=\"text-align: right;\">\n",
       "      <th></th>\n",
       "      <th>Date</th>\n",
       "      <th>hdd</th>\n",
       "    </tr>\n",
       "  </thead>\n",
       "  <tbody>\n",
       "    <tr>\n",
       "      <td>0</td>\n",
       "      <td>07/11/2009</td>\n",
       "      <td>7.390832</td>\n",
       "    </tr>\n",
       "    <tr>\n",
       "      <td>1</td>\n",
       "      <td>08/11/2009</td>\n",
       "      <td>8.025417</td>\n",
       "    </tr>\n",
       "    <tr>\n",
       "      <td>2</td>\n",
       "      <td>09/11/2009</td>\n",
       "      <td>7.761250</td>\n",
       "    </tr>\n",
       "    <tr>\n",
       "      <td>3</td>\n",
       "      <td>10/11/2009</td>\n",
       "      <td>6.895729</td>\n",
       "    </tr>\n",
       "    <tr>\n",
       "      <td>4</td>\n",
       "      <td>11/11/2009</td>\n",
       "      <td>7.344792</td>\n",
       "    </tr>\n",
       "  </tbody>\n",
       "</table>\n",
       "</div>"
      ],
      "text/plain": [
       "         Date       hdd\n",
       "0  07/11/2009  7.390832\n",
       "1  08/11/2009  8.025417\n",
       "2  09/11/2009  7.761250\n",
       "3  10/11/2009  6.895729\n",
       "4  11/11/2009  7.344792"
      ]
     },
     "execution_count": 20,
     "metadata": {},
     "output_type": "execute_result"
    }
   ],
   "source": [
    "#inspect dataframe\n",
    "df_daily.head()"
   ]
  },
  {
   "cell_type": "code",
   "execution_count": 21,
   "metadata": {},
   "outputs": [
    {
     "data": {
      "text/plain": [
       "(1202, 2)"
      ]
     },
     "execution_count": 21,
     "metadata": {},
     "output_type": "execute_result"
    }
   ],
   "source": [
    "# shape of the dataframe containing daily values. one row for each day\n",
    "df_daily.shape"
   ]
  },
  {
   "cell_type": "code",
   "execution_count": 22,
   "metadata": {},
   "outputs": [
    {
     "data": {
      "text/html": [
       "<div>\n",
       "<style scoped>\n",
       "    .dataframe tbody tr th:only-of-type {\n",
       "        vertical-align: middle;\n",
       "    }\n",
       "\n",
       "    .dataframe tbody tr th {\n",
       "        vertical-align: top;\n",
       "    }\n",
       "\n",
       "    .dataframe thead th {\n",
       "        text-align: right;\n",
       "    }\n",
       "</style>\n",
       "<table border=\"1\" class=\"dataframe\">\n",
       "  <thead>\n",
       "    <tr style=\"text-align: right;\">\n",
       "      <th></th>\n",
       "      <th>00:00</th>\n",
       "      <th>00:15</th>\n",
       "      <th>00:30</th>\n",
       "      <th>00:45</th>\n",
       "      <th>01:00</th>\n",
       "      <th>01:15</th>\n",
       "      <th>01:30</th>\n",
       "      <th>01:45</th>\n",
       "      <th>02:00</th>\n",
       "      <th>02:15</th>\n",
       "      <th>...</th>\n",
       "      <th>21:30</th>\n",
       "      <th>21:45</th>\n",
       "      <th>22:00</th>\n",
       "      <th>22:15</th>\n",
       "      <th>22:30</th>\n",
       "      <th>22:45</th>\n",
       "      <th>23:00</th>\n",
       "      <th>23:15</th>\n",
       "      <th>23:30</th>\n",
       "      <th>23:45</th>\n",
       "    </tr>\n",
       "  </thead>\n",
       "  <tbody>\n",
       "    <tr>\n",
       "      <td>0</td>\n",
       "      <td>0.068573</td>\n",
       "      <td>0.069090</td>\n",
       "      <td>0.069483</td>\n",
       "      <td>0.069916</td>\n",
       "      <td>0.070368</td>\n",
       "      <td>0.070830</td>\n",
       "      <td>0.071209</td>\n",
       "      <td>0.071484</td>\n",
       "      <td>0.071762</td>\n",
       "      <td>0.072100</td>\n",
       "      <td>...</td>\n",
       "      <td>0.096250</td>\n",
       "      <td>0.095937</td>\n",
       "      <td>0.098854</td>\n",
       "      <td>0.101354</td>\n",
       "      <td>0.103646</td>\n",
       "      <td>0.105104</td>\n",
       "      <td>0.106146</td>\n",
       "      <td>0.106979</td>\n",
       "      <td>0.107604</td>\n",
       "      <td>0.107917</td>\n",
       "    </tr>\n",
       "    <tr>\n",
       "      <td>1</td>\n",
       "      <td>0.106875</td>\n",
       "      <td>0.107708</td>\n",
       "      <td>0.107708</td>\n",
       "      <td>0.106771</td>\n",
       "      <td>0.105729</td>\n",
       "      <td>0.105104</td>\n",
       "      <td>0.106042</td>\n",
       "      <td>0.103854</td>\n",
       "      <td>0.100104</td>\n",
       "      <td>0.094271</td>\n",
       "      <td>...</td>\n",
       "      <td>0.106771</td>\n",
       "      <td>0.106458</td>\n",
       "      <td>0.106771</td>\n",
       "      <td>0.106667</td>\n",
       "      <td>0.108854</td>\n",
       "      <td>0.110417</td>\n",
       "      <td>0.111562</td>\n",
       "      <td>0.110417</td>\n",
       "      <td>0.112708</td>\n",
       "      <td>0.115938</td>\n",
       "    </tr>\n",
       "    <tr>\n",
       "      <td>2</td>\n",
       "      <td>0.118958</td>\n",
       "      <td>0.117708</td>\n",
       "      <td>0.116563</td>\n",
       "      <td>0.117292</td>\n",
       "      <td>0.116979</td>\n",
       "      <td>0.118229</td>\n",
       "      <td>0.117500</td>\n",
       "      <td>0.116979</td>\n",
       "      <td>0.119063</td>\n",
       "      <td>0.121250</td>\n",
       "      <td>...</td>\n",
       "      <td>0.065313</td>\n",
       "      <td>0.065208</td>\n",
       "      <td>0.065208</td>\n",
       "      <td>0.065313</td>\n",
       "      <td>0.065313</td>\n",
       "      <td>0.065833</td>\n",
       "      <td>0.065729</td>\n",
       "      <td>0.065313</td>\n",
       "      <td>0.064792</td>\n",
       "      <td>0.064271</td>\n",
       "    </tr>\n",
       "    <tr>\n",
       "      <td>3</td>\n",
       "      <td>0.063750</td>\n",
       "      <td>0.063542</td>\n",
       "      <td>0.062708</td>\n",
       "      <td>0.062812</td>\n",
       "      <td>0.063021</td>\n",
       "      <td>0.063021</td>\n",
       "      <td>0.061979</td>\n",
       "      <td>0.060833</td>\n",
       "      <td>0.061250</td>\n",
       "      <td>0.063542</td>\n",
       "      <td>...</td>\n",
       "      <td>0.104688</td>\n",
       "      <td>0.105729</td>\n",
       "      <td>0.106979</td>\n",
       "      <td>0.108542</td>\n",
       "      <td>0.110000</td>\n",
       "      <td>0.111979</td>\n",
       "      <td>0.112917</td>\n",
       "      <td>0.112292</td>\n",
       "      <td>0.114062</td>\n",
       "      <td>0.116563</td>\n",
       "    </tr>\n",
       "    <tr>\n",
       "      <td>4</td>\n",
       "      <td>0.118021</td>\n",
       "      <td>0.118333</td>\n",
       "      <td>0.120208</td>\n",
       "      <td>0.119479</td>\n",
       "      <td>0.117708</td>\n",
       "      <td>0.117396</td>\n",
       "      <td>0.116667</td>\n",
       "      <td>0.114479</td>\n",
       "      <td>0.109896</td>\n",
       "      <td>0.108229</td>\n",
       "      <td>...</td>\n",
       "      <td>0.052708</td>\n",
       "      <td>0.052292</td>\n",
       "      <td>0.052396</td>\n",
       "      <td>0.053229</td>\n",
       "      <td>0.056458</td>\n",
       "      <td>0.059479</td>\n",
       "      <td>0.065313</td>\n",
       "      <td>0.067396</td>\n",
       "      <td>0.068437</td>\n",
       "      <td>0.068542</td>\n",
       "    </tr>\n",
       "  </tbody>\n",
       "</table>\n",
       "<p>5 rows × 96 columns</p>\n",
       "</div>"
      ],
      "text/plain": [
       "      00:00     00:15     00:30     00:45     01:00     01:15     01:30  \\\n",
       "0  0.068573  0.069090  0.069483  0.069916  0.070368  0.070830  0.071209   \n",
       "1  0.106875  0.107708  0.107708  0.106771  0.105729  0.105104  0.106042   \n",
       "2  0.118958  0.117708  0.116563  0.117292  0.116979  0.118229  0.117500   \n",
       "3  0.063750  0.063542  0.062708  0.062812  0.063021  0.063021  0.061979   \n",
       "4  0.118021  0.118333  0.120208  0.119479  0.117708  0.117396  0.116667   \n",
       "\n",
       "      01:45     02:00     02:15  ...     21:30     21:45     22:00     22:15  \\\n",
       "0  0.071484  0.071762  0.072100  ...  0.096250  0.095937  0.098854  0.101354   \n",
       "1  0.103854  0.100104  0.094271  ...  0.106771  0.106458  0.106771  0.106667   \n",
       "2  0.116979  0.119063  0.121250  ...  0.065313  0.065208  0.065208  0.065313   \n",
       "3  0.060833  0.061250  0.063542  ...  0.104688  0.105729  0.106979  0.108542   \n",
       "4  0.114479  0.109896  0.108229  ...  0.052708  0.052292  0.052396  0.053229   \n",
       "\n",
       "      22:30     22:45     23:00     23:15     23:30     23:45  \n",
       "0  0.103646  0.105104  0.106146  0.106979  0.107604  0.107917  \n",
       "1  0.108854  0.110417  0.111562  0.110417  0.112708  0.115938  \n",
       "2  0.065313  0.065833  0.065729  0.065313  0.064792  0.064271  \n",
       "3  0.110000  0.111979  0.112917  0.112292  0.114062  0.116563  \n",
       "4  0.056458  0.059479  0.065313  0.067396  0.068437  0.068542  \n",
       "\n",
       "[5 rows x 96 columns]"
      ]
     },
     "execution_count": 22,
     "metadata": {},
     "output_type": "execute_result"
    }
   ],
   "source": [
    "# creating hourly dataframe\n",
    "# create a new dataframe with only 15 mins interval hdd values by selecting only the columns with 15-mins readings\n",
    "# select all rows and from columns index 2 onwards\n",
    "df2 = df.iloc[:,2:] \n",
    "df2.head()"
   ]
  },
  {
   "cell_type": "code",
   "execution_count": 23,
   "metadata": {},
   "outputs": [
    {
     "data": {
      "text/html": [
       "<div>\n",
       "<style scoped>\n",
       "    .dataframe tbody tr th:only-of-type {\n",
       "        vertical-align: middle;\n",
       "    }\n",
       "\n",
       "    .dataframe tbody tr th {\n",
       "        vertical-align: top;\n",
       "    }\n",
       "\n",
       "    .dataframe thead th {\n",
       "        text-align: right;\n",
       "    }\n",
       "</style>\n",
       "<table border=\"1\" class=\"dataframe\">\n",
       "  <thead>\n",
       "    <tr style=\"text-align: right;\">\n",
       "      <th></th>\n",
       "      <th>0</th>\n",
       "      <th>1</th>\n",
       "      <th>2</th>\n",
       "      <th>3</th>\n",
       "      <th>4</th>\n",
       "      <th>5</th>\n",
       "      <th>6</th>\n",
       "      <th>7</th>\n",
       "      <th>8</th>\n",
       "      <th>9</th>\n",
       "      <th>...</th>\n",
       "      <th>14</th>\n",
       "      <th>15</th>\n",
       "      <th>16</th>\n",
       "      <th>17</th>\n",
       "      <th>18</th>\n",
       "      <th>19</th>\n",
       "      <th>20</th>\n",
       "      <th>21</th>\n",
       "      <th>22</th>\n",
       "      <th>23</th>\n",
       "    </tr>\n",
       "  </thead>\n",
       "  <tbody>\n",
       "    <tr>\n",
       "      <td>0</td>\n",
       "      <td>0.277063</td>\n",
       "      <td>0.283891</td>\n",
       "      <td>0.289174</td>\n",
       "      <td>0.294929</td>\n",
       "      <td>0.298257</td>\n",
       "      <td>0.295683</td>\n",
       "      <td>0.284189</td>\n",
       "      <td>0.265660</td>\n",
       "      <td>0.316466</td>\n",
       "      <td>0.328958</td>\n",
       "      <td>...</td>\n",
       "      <td>0.261250</td>\n",
       "      <td>0.283750</td>\n",
       "      <td>0.295104</td>\n",
       "      <td>0.308854</td>\n",
       "      <td>0.337083</td>\n",
       "      <td>0.335938</td>\n",
       "      <td>0.360208</td>\n",
       "      <td>0.381979</td>\n",
       "      <td>0.408958</td>\n",
       "      <td>0.428646</td>\n",
       "    </tr>\n",
       "    <tr>\n",
       "      <td>1</td>\n",
       "      <td>0.429063</td>\n",
       "      <td>0.420729</td>\n",
       "      <td>0.386042</td>\n",
       "      <td>0.407708</td>\n",
       "      <td>0.386875</td>\n",
       "      <td>0.385104</td>\n",
       "      <td>0.415000</td>\n",
       "      <td>0.424583</td>\n",
       "      <td>0.414062</td>\n",
       "      <td>0.355000</td>\n",
       "      <td>...</td>\n",
       "      <td>0.103958</td>\n",
       "      <td>0.172188</td>\n",
       "      <td>0.264063</td>\n",
       "      <td>0.319063</td>\n",
       "      <td>0.320937</td>\n",
       "      <td>0.375729</td>\n",
       "      <td>0.411979</td>\n",
       "      <td>0.422292</td>\n",
       "      <td>0.432708</td>\n",
       "      <td>0.450625</td>\n",
       "    </tr>\n",
       "    <tr>\n",
       "      <td>2</td>\n",
       "      <td>0.470521</td>\n",
       "      <td>0.469687</td>\n",
       "      <td>0.488646</td>\n",
       "      <td>0.502500</td>\n",
       "      <td>0.517292</td>\n",
       "      <td>0.526042</td>\n",
       "      <td>0.495000</td>\n",
       "      <td>0.481042</td>\n",
       "      <td>0.417292</td>\n",
       "      <td>0.329167</td>\n",
       "      <td>...</td>\n",
       "      <td>0.169687</td>\n",
       "      <td>0.184167</td>\n",
       "      <td>0.207396</td>\n",
       "      <td>0.217708</td>\n",
       "      <td>0.230625</td>\n",
       "      <td>0.259063</td>\n",
       "      <td>0.267708</td>\n",
       "      <td>0.262708</td>\n",
       "      <td>0.261667</td>\n",
       "      <td>0.260104</td>\n",
       "    </tr>\n",
       "    <tr>\n",
       "      <td>3</td>\n",
       "      <td>0.252813</td>\n",
       "      <td>0.248854</td>\n",
       "      <td>0.256563</td>\n",
       "      <td>0.270000</td>\n",
       "      <td>0.280938</td>\n",
       "      <td>0.294792</td>\n",
       "      <td>0.316875</td>\n",
       "      <td>0.360000</td>\n",
       "      <td>0.381250</td>\n",
       "      <td>0.341042</td>\n",
       "      <td>...</td>\n",
       "      <td>0.113854</td>\n",
       "      <td>0.173229</td>\n",
       "      <td>0.229375</td>\n",
       "      <td>0.271146</td>\n",
       "      <td>0.319479</td>\n",
       "      <td>0.347812</td>\n",
       "      <td>0.393750</td>\n",
       "      <td>0.416042</td>\n",
       "      <td>0.437500</td>\n",
       "      <td>0.455833</td>\n",
       "    </tr>\n",
       "    <tr>\n",
       "      <td>4</td>\n",
       "      <td>0.476042</td>\n",
       "      <td>0.466250</td>\n",
       "      <td>0.430521</td>\n",
       "      <td>0.418958</td>\n",
       "      <td>0.451979</td>\n",
       "      <td>0.488958</td>\n",
       "      <td>0.484167</td>\n",
       "      <td>0.459167</td>\n",
       "      <td>0.387396</td>\n",
       "      <td>0.311979</td>\n",
       "      <td>...</td>\n",
       "      <td>0.186563</td>\n",
       "      <td>0.198229</td>\n",
       "      <td>0.220729</td>\n",
       "      <td>0.209271</td>\n",
       "      <td>0.199688</td>\n",
       "      <td>0.201250</td>\n",
       "      <td>0.202917</td>\n",
       "      <td>0.210521</td>\n",
       "      <td>0.221562</td>\n",
       "      <td>0.269688</td>\n",
       "    </tr>\n",
       "  </tbody>\n",
       "</table>\n",
       "<p>5 rows × 24 columns</p>\n",
       "</div>"
      ],
      "text/plain": [
       "         0         1         2         3         4         5         6   \\\n",
       "0  0.277063  0.283891  0.289174  0.294929  0.298257  0.295683  0.284189   \n",
       "1  0.429063  0.420729  0.386042  0.407708  0.386875  0.385104  0.415000   \n",
       "2  0.470521  0.469687  0.488646  0.502500  0.517292  0.526042  0.495000   \n",
       "3  0.252813  0.248854  0.256563  0.270000  0.280938  0.294792  0.316875   \n",
       "4  0.476042  0.466250  0.430521  0.418958  0.451979  0.488958  0.484167   \n",
       "\n",
       "         7         8         9   ...        14        15        16        17  \\\n",
       "0  0.265660  0.316466  0.328958  ...  0.261250  0.283750  0.295104  0.308854   \n",
       "1  0.424583  0.414062  0.355000  ...  0.103958  0.172188  0.264063  0.319063   \n",
       "2  0.481042  0.417292  0.329167  ...  0.169687  0.184167  0.207396  0.217708   \n",
       "3  0.360000  0.381250  0.341042  ...  0.113854  0.173229  0.229375  0.271146   \n",
       "4  0.459167  0.387396  0.311979  ...  0.186563  0.198229  0.220729  0.209271   \n",
       "\n",
       "         18        19        20        21        22        23  \n",
       "0  0.337083  0.335938  0.360208  0.381979  0.408958  0.428646  \n",
       "1  0.320937  0.375729  0.411979  0.422292  0.432708  0.450625  \n",
       "2  0.230625  0.259063  0.267708  0.262708  0.261667  0.260104  \n",
       "3  0.319479  0.347812  0.393750  0.416042  0.437500  0.455833  \n",
       "4  0.199688  0.201250  0.202917  0.210521  0.221562  0.269688  \n",
       "\n",
       "[5 rows x 24 columns]"
      ]
     },
     "execution_count": 23,
     "metadata": {},
     "output_type": "execute_result"
    }
   ],
   "source": [
    "# calculate hourly readings by summing up of every 4 rows. Save this to a new dataframe. \n",
    "df_hourly = df2.groupby([[i//4 for i in range(0,96)]], axis = 1).sum()\n",
    "df_hourly.head()"
   ]
  },
  {
   "cell_type": "code",
   "execution_count": 24,
   "metadata": {},
   "outputs": [],
   "source": [
    "# rename col_names and insert date columns at index 0\n",
    "col_names = ['00:00:00', '01:00:00', '02:00:00', '03:00:00', '04:00:00','05:00:00','06:00:00','07:00:00','08:00:00','09:00:00','10:00:00','11:00:00','12:00:00',\n",
    "            '13:00:00','14:00:00','15:00:00','16:00:00','17:00:00','18:00:00','19:00:00','20:00:00','21:00:00','22:00:00','23:00:00']\n",
    "df_hourly.columns = col_names\n",
    "df_hourly.insert(0, 'Date', df['Date'])"
   ]
  },
  {
   "cell_type": "code",
   "execution_count": 25,
   "metadata": {},
   "outputs": [
    {
     "data": {
      "text/html": [
       "<div>\n",
       "<style scoped>\n",
       "    .dataframe tbody tr th:only-of-type {\n",
       "        vertical-align: middle;\n",
       "    }\n",
       "\n",
       "    .dataframe tbody tr th {\n",
       "        vertical-align: top;\n",
       "    }\n",
       "\n",
       "    .dataframe thead th {\n",
       "        text-align: right;\n",
       "    }\n",
       "</style>\n",
       "<table border=\"1\" class=\"dataframe\">\n",
       "  <thead>\n",
       "    <tr style=\"text-align: right;\">\n",
       "      <th></th>\n",
       "      <th>Date</th>\n",
       "      <th>00:00:00</th>\n",
       "      <th>01:00:00</th>\n",
       "      <th>02:00:00</th>\n",
       "      <th>03:00:00</th>\n",
       "      <th>04:00:00</th>\n",
       "      <th>05:00:00</th>\n",
       "      <th>06:00:00</th>\n",
       "      <th>07:00:00</th>\n",
       "      <th>08:00:00</th>\n",
       "      <th>...</th>\n",
       "      <th>14:00:00</th>\n",
       "      <th>15:00:00</th>\n",
       "      <th>16:00:00</th>\n",
       "      <th>17:00:00</th>\n",
       "      <th>18:00:00</th>\n",
       "      <th>19:00:00</th>\n",
       "      <th>20:00:00</th>\n",
       "      <th>21:00:00</th>\n",
       "      <th>22:00:00</th>\n",
       "      <th>23:00:00</th>\n",
       "    </tr>\n",
       "  </thead>\n",
       "  <tbody>\n",
       "    <tr>\n",
       "      <td>0</td>\n",
       "      <td>07/11/2009</td>\n",
       "      <td>0.277063</td>\n",
       "      <td>0.283891</td>\n",
       "      <td>0.289174</td>\n",
       "      <td>0.294929</td>\n",
       "      <td>0.298257</td>\n",
       "      <td>0.295683</td>\n",
       "      <td>0.284189</td>\n",
       "      <td>0.265660</td>\n",
       "      <td>0.316466</td>\n",
       "      <td>...</td>\n",
       "      <td>0.261250</td>\n",
       "      <td>0.283750</td>\n",
       "      <td>0.295104</td>\n",
       "      <td>0.308854</td>\n",
       "      <td>0.337083</td>\n",
       "      <td>0.335938</td>\n",
       "      <td>0.360208</td>\n",
       "      <td>0.381979</td>\n",
       "      <td>0.408958</td>\n",
       "      <td>0.428646</td>\n",
       "    </tr>\n",
       "    <tr>\n",
       "      <td>1</td>\n",
       "      <td>08/11/2009</td>\n",
       "      <td>0.429063</td>\n",
       "      <td>0.420729</td>\n",
       "      <td>0.386042</td>\n",
       "      <td>0.407708</td>\n",
       "      <td>0.386875</td>\n",
       "      <td>0.385104</td>\n",
       "      <td>0.415000</td>\n",
       "      <td>0.424583</td>\n",
       "      <td>0.414062</td>\n",
       "      <td>...</td>\n",
       "      <td>0.103958</td>\n",
       "      <td>0.172188</td>\n",
       "      <td>0.264063</td>\n",
       "      <td>0.319063</td>\n",
       "      <td>0.320937</td>\n",
       "      <td>0.375729</td>\n",
       "      <td>0.411979</td>\n",
       "      <td>0.422292</td>\n",
       "      <td>0.432708</td>\n",
       "      <td>0.450625</td>\n",
       "    </tr>\n",
       "    <tr>\n",
       "      <td>2</td>\n",
       "      <td>09/11/2009</td>\n",
       "      <td>0.470521</td>\n",
       "      <td>0.469687</td>\n",
       "      <td>0.488646</td>\n",
       "      <td>0.502500</td>\n",
       "      <td>0.517292</td>\n",
       "      <td>0.526042</td>\n",
       "      <td>0.495000</td>\n",
       "      <td>0.481042</td>\n",
       "      <td>0.417292</td>\n",
       "      <td>...</td>\n",
       "      <td>0.169687</td>\n",
       "      <td>0.184167</td>\n",
       "      <td>0.207396</td>\n",
       "      <td>0.217708</td>\n",
       "      <td>0.230625</td>\n",
       "      <td>0.259063</td>\n",
       "      <td>0.267708</td>\n",
       "      <td>0.262708</td>\n",
       "      <td>0.261667</td>\n",
       "      <td>0.260104</td>\n",
       "    </tr>\n",
       "    <tr>\n",
       "      <td>3</td>\n",
       "      <td>10/11/2009</td>\n",
       "      <td>0.252813</td>\n",
       "      <td>0.248854</td>\n",
       "      <td>0.256563</td>\n",
       "      <td>0.270000</td>\n",
       "      <td>0.280938</td>\n",
       "      <td>0.294792</td>\n",
       "      <td>0.316875</td>\n",
       "      <td>0.360000</td>\n",
       "      <td>0.381250</td>\n",
       "      <td>...</td>\n",
       "      <td>0.113854</td>\n",
       "      <td>0.173229</td>\n",
       "      <td>0.229375</td>\n",
       "      <td>0.271146</td>\n",
       "      <td>0.319479</td>\n",
       "      <td>0.347812</td>\n",
       "      <td>0.393750</td>\n",
       "      <td>0.416042</td>\n",
       "      <td>0.437500</td>\n",
       "      <td>0.455833</td>\n",
       "    </tr>\n",
       "    <tr>\n",
       "      <td>4</td>\n",
       "      <td>11/11/2009</td>\n",
       "      <td>0.476042</td>\n",
       "      <td>0.466250</td>\n",
       "      <td>0.430521</td>\n",
       "      <td>0.418958</td>\n",
       "      <td>0.451979</td>\n",
       "      <td>0.488958</td>\n",
       "      <td>0.484167</td>\n",
       "      <td>0.459167</td>\n",
       "      <td>0.387396</td>\n",
       "      <td>...</td>\n",
       "      <td>0.186563</td>\n",
       "      <td>0.198229</td>\n",
       "      <td>0.220729</td>\n",
       "      <td>0.209271</td>\n",
       "      <td>0.199688</td>\n",
       "      <td>0.201250</td>\n",
       "      <td>0.202917</td>\n",
       "      <td>0.210521</td>\n",
       "      <td>0.221562</td>\n",
       "      <td>0.269688</td>\n",
       "    </tr>\n",
       "  </tbody>\n",
       "</table>\n",
       "<p>5 rows × 25 columns</p>\n",
       "</div>"
      ],
      "text/plain": [
       "         Date  00:00:00  01:00:00  02:00:00  03:00:00  04:00:00  05:00:00  \\\n",
       "0  07/11/2009  0.277063  0.283891  0.289174  0.294929  0.298257  0.295683   \n",
       "1  08/11/2009  0.429063  0.420729  0.386042  0.407708  0.386875  0.385104   \n",
       "2  09/11/2009  0.470521  0.469687  0.488646  0.502500  0.517292  0.526042   \n",
       "3  10/11/2009  0.252813  0.248854  0.256563  0.270000  0.280938  0.294792   \n",
       "4  11/11/2009  0.476042  0.466250  0.430521  0.418958  0.451979  0.488958   \n",
       "\n",
       "   06:00:00  07:00:00  08:00:00  ...  14:00:00  15:00:00  16:00:00  17:00:00  \\\n",
       "0  0.284189  0.265660  0.316466  ...  0.261250  0.283750  0.295104  0.308854   \n",
       "1  0.415000  0.424583  0.414062  ...  0.103958  0.172188  0.264063  0.319063   \n",
       "2  0.495000  0.481042  0.417292  ...  0.169687  0.184167  0.207396  0.217708   \n",
       "3  0.316875  0.360000  0.381250  ...  0.113854  0.173229  0.229375  0.271146   \n",
       "4  0.484167  0.459167  0.387396  ...  0.186563  0.198229  0.220729  0.209271   \n",
       "\n",
       "   18:00:00  19:00:00  20:00:00  21:00:00  22:00:00  23:00:00  \n",
       "0  0.337083  0.335938  0.360208  0.381979  0.408958  0.428646  \n",
       "1  0.320937  0.375729  0.411979  0.422292  0.432708  0.450625  \n",
       "2  0.230625  0.259063  0.267708  0.262708  0.261667  0.260104  \n",
       "3  0.319479  0.347812  0.393750  0.416042  0.437500  0.455833  \n",
       "4  0.199688  0.201250  0.202917  0.210521  0.221562  0.269688  \n",
       "\n",
       "[5 rows x 25 columns]"
      ]
     },
     "execution_count": 25,
     "metadata": {},
     "output_type": "execute_result"
    }
   ],
   "source": [
    "# inspect hourly hdd dataframe\n",
    "df_hourly.head()"
   ]
  },
  {
   "cell_type": "markdown",
   "metadata": {},
   "source": [
    "## Loading data to postgres"
   ]
  },
  {
   "cell_type": "code",
   "execution_count": 30,
   "metadata": {},
   "outputs": [],
   "source": [
    "# CHANGE ME : postgres connection parameters are defined here\n",
    "# connect to postgres and create a database called 'project'\n",
    "try:\n",
    "    dbConnection = psycopg2.connect(\n",
    "    user = \"postgres\",\n",
    "    password = \"root\",\n",
    "    host = \"localhost\",\n",
    "    port = \"5432\",\n",
    "    database = \"postgres\")\n",
    "    dbConnection.set_isolation_level(0) # AUTOCOMMIT\n",
    "    dbCursor = dbConnection.cursor()\n",
    "    dbCursor.execute('CREATE DATABASE project;')\n",
    "    dbCursor.close()\n",
    "except (Exception , psycopg2.Error) as dbError :\n",
    "    print (\"Error while connecting to PostgreSQL\", dbError)\n",
    "finally:\n",
    "    if(dbConnection): dbConnection.close()"
   ]
  },
  {
   "cell_type": "code",
   "execution_count": 26,
   "metadata": {},
   "outputs": [],
   "source": [
    "# CHANGE ME : postgres connection parameters are defined here\n",
    "# this function creates a new database session and returns a new instance of the connection class\n",
    "def get_DBConnection():\n",
    "    '''creates a new postgres database session and returns a new instance of the connection classs'''\n",
    "    dbConnection = psycopg2.connect(\n",
    "        user = \"postgres\",\n",
    "        password = \"root\",\n",
    "        host = \"localhost\",\n",
    "        port = \"5432\",\n",
    "        database = \"project\")\n",
    "    return dbConnection"
   ]
  },
  {
   "cell_type": "code",
   "execution_count": 33,
   "metadata": {},
   "outputs": [],
   "source": [
    "# create db schema for daily hdd readings, date as primary key\n",
    "createString = \"\"\"\n",
    "CREATE TABLE dailyhdd(\n",
    "date DATE PRIMARY KEY,\n",
    "hdd numeric\n",
    ");\n",
    "\"\"\"\n",
    "try:\n",
    "    dbConnection = get_DBConnection()\n",
    "    dbConnection.set_isolation_level(0) # AUTOCOMMIT\n",
    "    dbCursor = dbConnection.cursor()\n",
    "    dbCursor.execute(createString)\n",
    "    dbCursor.close()\n",
    "except (Exception , psycopg2.Error) as dbError :\n",
    "    print (\"Error while connecting to PostgreSQL\", dbError)\n",
    "finally:\n",
    "    if(dbConnection): dbConnection.close()"
   ]
  },
  {
   "cell_type": "code",
   "execution_count": 34,
   "metadata": {},
   "outputs": [],
   "source": [
    "# insert values from dataframe into database table\n",
    "try:\n",
    "    dbConnection = get_DBConnection()\n",
    "    dbConnection.set_isolation_level(0) # AUTOCOMMIT\n",
    "    dbCursor = dbConnection.cursor()\n",
    "    for i,row in df_daily.iterrows():\n",
    "        # on each row zeroth index has the date and 1st index has hdd value\n",
    "        insertString = \"INSERT INTO dailyhdd VALUES(to_date('{}','DD/MM/YYYY'), {})\".format(row[0], row[1])\n",
    "        dbCursor.execute(insertString)\n",
    "    dbConnection.commit()\n",
    "    dbCursor.close()\n",
    "except (Exception , psycopg2.Error) as dbError :\n",
    "    print (\"Error:\", dbError)\n",
    "finally:\n",
    "    if(dbConnection): dbConnection.close()"
   ]
  },
  {
   "cell_type": "code",
   "execution_count": 35,
   "metadata": {},
   "outputs": [],
   "source": [
    "#create a new table in postgres to save hourly hdd data\n",
    "createString = \"\"\"\n",
    "CREATE TABLE hourlyhdd(\n",
    "date_time timestamp PRIMARY KEY,\n",
    "hdd numeric\n",
    ");\n",
    "\"\"\"\n",
    "try:\n",
    "    dbConnection = get_DBConnection()\n",
    "    dbConnection.set_isolation_level(0) # AUTOCOMMIT\n",
    "    dbCursor = dbConnection.cursor()\n",
    "    dbCursor.execute(createString)\n",
    "    dbCursor.close()\n",
    "except (Exception , psycopg2.Error) as dbError :\n",
    "    print (\"Error while connecting to PostgreSQL\", dbError)\n",
    "finally:\n",
    "    if(dbConnection): dbConnection.close()"
   ]
  },
  {
   "cell_type": "code",
   "execution_count": 36,
   "metadata": {},
   "outputs": [
    {
     "data": {
      "text/plain": [
       "25"
      ]
     },
     "execution_count": 36,
     "metadata": {},
     "output_type": "execute_result"
    }
   ],
   "source": [
    "# no of columns\n",
    "col_names = df_hourly.columns # make a list of all the column names in the dataframe \n",
    "totalcolumns = len(col_names)\n",
    "totalcolumns"
   ]
  },
  {
   "cell_type": "code",
   "execution_count": 37,
   "metadata": {},
   "outputs": [],
   "source": [
    "# insert values from dataframe into hourlyhdd table\n",
    "try:\n",
    "    dbConnection = get_DBConnection()\n",
    "    dbConnection.set_isolation_level(0) # AUTOCOMMIT\n",
    "    dbCursor = dbConnection.cursor()\n",
    "    \n",
    "    for i,row in df_hourly.iterrows(): \n",
    "        for j in range(1,totalcolumns) : # index 0 is 'date'. we want to add only the hourly data \n",
    "            date_time = row[0] + \" \" + col_names[j]  # eg : date_time = '07/11/2009 01:00:00'\n",
    "            insertString = \"INSERT INTO hourlyhdd VALUES('{}', {})\".format(date_time, row[j])\n",
    "            dbCursor.execute(insertString)\n",
    "    dbConnection.commit()\n",
    "    dbCursor.close()\n",
    "except (Exception , psycopg2.Error) as dbError :\n",
    "    print (\"Error:\", dbError)\n",
    "finally:\n",
    "    if(dbConnection): dbConnection.close()"
   ]
  },
  {
   "cell_type": "markdown",
   "metadata": {},
   "source": [
    "## Exploratory data analysis"
   ]
  },
  {
   "cell_type": "code",
   "execution_count": 297,
   "metadata": {},
   "outputs": [],
   "source": [
    "#We will create 2 pandas dataframes by querying the dailyhdd and hourlyhdd tables to conduct explonatory data analysis"
   ]
  },
  {
   "cell_type": "code",
   "execution_count": 27,
   "metadata": {},
   "outputs": [],
   "source": [
    "# query the dailyhdd table\n",
    "sql = \"SELECT * FROM dailyhdd\"\n",
    "\n",
    "try:\n",
    "    dbConnection = get_DBConnection()\n",
    "    df_dailyhdd = sqlio.read_sql_query(sql, dbConnection)\n",
    "except (Exception , psycopg2.Error) as dbError :\n",
    "    print (\"Error:\", dbError)\n",
    "finally:\n",
    "    if(dbConnection): dbConnection.close()"
   ]
  },
  {
   "cell_type": "code",
   "execution_count": 28,
   "metadata": {},
   "outputs": [
    {
     "data": {
      "text/plain": [
       "(1202, 2)"
      ]
     },
     "execution_count": 28,
     "metadata": {},
     "output_type": "execute_result"
    }
   ],
   "source": [
    "# inspect the result \n",
    "df_dailyhdd.shape"
   ]
  },
  {
   "cell_type": "code",
   "execution_count": 29,
   "metadata": {},
   "outputs": [
    {
     "data": {
      "text/html": [
       "<div>\n",
       "<style scoped>\n",
       "    .dataframe tbody tr th:only-of-type {\n",
       "        vertical-align: middle;\n",
       "    }\n",
       "\n",
       "    .dataframe tbody tr th {\n",
       "        vertical-align: top;\n",
       "    }\n",
       "\n",
       "    .dataframe thead th {\n",
       "        text-align: right;\n",
       "    }\n",
       "</style>\n",
       "<table border=\"1\" class=\"dataframe\">\n",
       "  <thead>\n",
       "    <tr style=\"text-align: right;\">\n",
       "      <th></th>\n",
       "      <th>date</th>\n",
       "      <th>hdd</th>\n",
       "    </tr>\n",
       "  </thead>\n",
       "  <tbody>\n",
       "    <tr>\n",
       "      <td>0</td>\n",
       "      <td>2009-11-07</td>\n",
       "      <td>7.390832</td>\n",
       "    </tr>\n",
       "    <tr>\n",
       "      <td>1</td>\n",
       "      <td>2009-11-08</td>\n",
       "      <td>8.025417</td>\n",
       "    </tr>\n",
       "    <tr>\n",
       "      <td>2</td>\n",
       "      <td>2009-11-09</td>\n",
       "      <td>7.761250</td>\n",
       "    </tr>\n",
       "    <tr>\n",
       "      <td>3</td>\n",
       "      <td>2009-11-10</td>\n",
       "      <td>6.895729</td>\n",
       "    </tr>\n",
       "    <tr>\n",
       "      <td>4</td>\n",
       "      <td>2009-11-11</td>\n",
       "      <td>7.344792</td>\n",
       "    </tr>\n",
       "  </tbody>\n",
       "</table>\n",
       "</div>"
      ],
      "text/plain": [
       "         date       hdd\n",
       "0  2009-11-07  7.390832\n",
       "1  2009-11-08  8.025417\n",
       "2  2009-11-09  7.761250\n",
       "3  2009-11-10  6.895729\n",
       "4  2009-11-11  7.344792"
      ]
     },
     "execution_count": 29,
     "metadata": {},
     "output_type": "execute_result"
    }
   ],
   "source": [
    "df_dailyhdd.head()"
   ]
  },
  {
   "cell_type": "code",
   "execution_count": 30,
   "metadata": {},
   "outputs": [],
   "source": [
    "# query the hourlyhdd table\n",
    "sql = \"SELECT * FROM hourlyhdd\"\n",
    "\n",
    "try:\n",
    "    dbConnection = get_DBConnection()\n",
    "    df_hourlyhdd = sqlio.read_sql_query(sql, dbConnection)\n",
    "except (Exception , psycopg2.Error) as dbError :\n",
    "    print (\"Error:\", dbError)\n",
    "finally:\n",
    "    if(dbConnection): dbConnection.close()"
   ]
  },
  {
   "cell_type": "code",
   "execution_count": 31,
   "metadata": {},
   "outputs": [
    {
     "data": {
      "text/plain": [
       "(28848, 2)"
      ]
     },
     "execution_count": 31,
     "metadata": {},
     "output_type": "execute_result"
    }
   ],
   "source": [
    "df_hourlyhdd.shape\n",
    "# over 28K rows of hourly HDD data"
   ]
  },
  {
   "cell_type": "code",
   "execution_count": 32,
   "metadata": {},
   "outputs": [
    {
     "data": {
      "image/png": "[encoded data removed]",
      "text/plain": [
       "<Figure size 720x432 with 1 Axes>"
      ]
     },
     "metadata": {
      "needs_background": "light"
     },
     "output_type": "display_data"
    }
   ],
   "source": [
    "# Plot dailyhdd \n",
    "# line plot of daily heating degree days\n",
    "df_dailyhdd.plot(x='date', y='hdd', figsize=(10,6), linewidth=2, fontsize=10)\n",
    "plt.xlabel('Date',fontsize=15)\n",
    "plt.ylabel('Heating Degree Days', fontsize=15)\n",
    "plt.xticks(rotation=90)\n",
    "plt.show()\n",
    "# daily heating degree days exhibit seasonality with peak during winter months and troughing in summer"
   ]
  },
  {
   "cell_type": "code",
   "execution_count": 33,
   "metadata": {},
   "outputs": [
    {
     "data": {
      "image/png": "[encoded data removed]",
      "text/plain": [
       "<Figure size 720x432 with 1 Axes>"
      ]
     },
     "metadata": {
      "needs_background": "light"
     },
     "output_type": "display_data"
    }
   ],
   "source": [
    "# confirm visual inference of seasonality with formal ACF test \n",
    "# ACF describes the autocorrelation between a HDD value and another HDD observation at a prior timestep. The shaded region shows the 95% confidence interval. The postive correlation \n",
    "# peaks at 12 months and trails off at subsequent lags of 24m and 36m as the effect was weakened. \n",
    "from matplotlib.pylab import rcParams # this is to set figue size in acf plot\n",
    "\n",
    "#plt.rcdefaults() # reset style sheet\n",
    "# plt.style.use('ggplot') # R style ggplots\n",
    "rcParams['figure.figsize'] = 10, 6 # set figure size\n",
    "#rcParams['figure.figsize'] = 7, 5 # set figure size\n",
    "sm.graphics.tsa.plot_acf(df_dailyhdd['hdd'], lags=1000)\n",
    "plt.xlabel('Time lag : No of days',fontsize=12)\n",
    "plt.ylabel('Correlation',fontsize=12)\n",
    "plt.title('Daily HDD autocorrelation')\n",
    "plt.show()"
   ]
  },
  {
   "cell_type": "markdown",
   "metadata": {},
   "source": [
    "**Analysis : How Heating Degree Days vary by month and time of  the day**"
   ]
  },
  {
   "cell_type": "code",
   "execution_count": 34,
   "metadata": {},
   "outputs": [
    {
     "data": {
      "text/plain": [
       "date     object\n",
       "hdd     float64\n",
       "dtype: object"
      ]
     },
     "execution_count": 34,
     "metadata": {},
     "output_type": "execute_result"
    }
   ],
   "source": [
    "# seasonality : by month\n",
    "df_dailyhdd.dtypes"
   ]
  },
  {
   "cell_type": "code",
   "execution_count": 35,
   "metadata": {},
   "outputs": [
    {
     "data": {
      "text/plain": [
       "date    datetime64[ns]\n",
       "hdd            float64\n",
       "dtype: object"
      ]
     },
     "execution_count": 35,
     "metadata": {},
     "output_type": "execute_result"
    }
   ],
   "source": [
    "# convert date column to datetime (index)\n",
    "df_dailyhdd[\"date\"]= pd.to_datetime(df_dailyhdd[\"date\"])\n",
    "df_dailyhdd.dtypes"
   ]
  },
  {
   "cell_type": "code",
   "execution_count": 36,
   "metadata": {},
   "outputs": [],
   "source": [
    "# create monthly dataframe by resampling \n",
    "df_monthlyhdd = df_dailyhdd.resample('M', on='date').mean()\n",
    "df_monthlyhdd.head()\n",
    "df_monthlyhdd['month'] = df_monthlyhdd.index.month"
   ]
  },
  {
   "cell_type": "code",
   "execution_count": 41,
   "metadata": {},
   "outputs": [
    {
     "data": {
      "image/png": "[encoded data removed]",
      "text/plain": [
       "<Figure size 720x432 with 1 Axes>"
      ]
     },
     "metadata": {
      "needs_background": "light"
     },
     "output_type": "display_data"
    }
   ],
   "source": [
    "# monthly seasonality in hdd\n",
    "plt.figure(figsize=(10, 6))\n",
    "fig = sns.boxplot(x=df_monthlyhdd.index.month, y='hdd',data=df_monthlyhdd)\n",
    "fig.set(ylabel='HDD Values', xlabel='Month')\n",
    "fig.set_title(\"Monthly Seasonality\")\n",
    "fig.set_xticklabels(['Jan','Feb','Mar','Apr', 'May', 'Jun', 'Jul', 'Aug','Sep','Oct','Nov','Dec'])\n",
    "plt.show()"
   ]
  },
  {
   "cell_type": "code",
   "execution_count": 38,
   "metadata": {},
   "outputs": [
    {
     "data": {
      "text/plain": [
       "Index(['date_time', 'hdd'], dtype='object')"
      ]
     },
     "execution_count": 38,
     "metadata": {},
     "output_type": "execute_result"
    }
   ],
   "source": [
    "df_hourlyhdd.dtypes\n",
    "df_hourlyhdd.columns"
   ]
  },
  {
   "cell_type": "code",
   "execution_count": 42,
   "metadata": {},
   "outputs": [
    {
     "data": {
      "image/png": "[encoded data removed]",
      "text/plain": [
       "<Figure size 720x432 with 1 Axes>"
      ]
     },
     "metadata": {
      "needs_background": "light"
     },
     "output_type": "display_data"
    }
   ],
   "source": [
    "# plot hourly auto correlation\n",
    "rcParams['figure.figsize'] = 10, 6 # set figure size\n",
    "sm.graphics.tsa.plot_acf(df_hourlyhdd['hdd'], lags=100)\n",
    "plt.xlabel('Time lag : hours',fontsize=12)\n",
    "plt.ylabel('Correlation',fontsize=12)\n",
    "plt.title('Hourly HDD autocorrelation')\n",
    "plt.show()\n",
    "# ACF plot of hourly data showed an oscillation with recurring peaks in correlation every 24 hours, thus suggesting daily seasonality."
   ]
  },
  {
   "cell_type": "code",
   "execution_count": 44,
   "metadata": {},
   "outputs": [],
   "source": [
    "# set date_time to be the index in hourlyhdd dataframe\n",
    "df_hourlyhdd[\"date_time\"] = pd.to_datetime(df_hourlyhdd[\"date_time\"],format=\"%d-%b-%Y\")\n",
    "df_hourlyhdd.set_index(\"date_time\", inplace = True)"
   ]
  },
  {
   "cell_type": "code",
   "execution_count": 47,
   "metadata": {},
   "outputs": [
    {
     "data": {
      "image/png": "[encoded data removed]",
      "text/plain": [
       "<Figure size 1080x432 with 1 Axes>"
      ]
     },
     "metadata": {
      "needs_background": "light"
     },
     "output_type": "display_data"
    }
   ],
   "source": [
    "# 1 day seasonality in hdd\n",
    "plt.figure(figsize=(15, 6))\n",
    "fig = sns.boxplot(x=df_hourlyhdd.index.hour, y='hdd',data=df_hourlyhdd)\n",
    "fig.set(xlabel='Time of the day : 24 H clock', ylabel='HDD Values')\n",
    "fig.set_title(\"Daily Seasonality\")\n",
    "fig.set_xticklabels(['00:00','01:00','02:00','03:00', '04:00', '05:00', '06:00', '07:00','08:00','09:00','10:00','11:00',\n",
    "                    '12:00', '13:00', '14:00', '15:00', '16:00', '17:00', '18:00','19:00','20:00', '21:00','22:00','23:00'], rotation=90)\n",
    "plt.show()\n",
    "#Heating demand gradually falls during office hours( 09:00 and 16:00)  rising up as people return to the homes. "
   ]
  },
  {
   "cell_type": "markdown",
   "metadata": {},
   "source": [
    "*Conclusion : HDD time series has complex seasonality, exhibiting both a daily and annual pattern*"
   ]
  },
  {
   "cell_type": "markdown",
   "metadata": {},
   "source": [
    "## Forecasting Heating Degree Days"
   ]
  },
  {
   "cell_type": "code",
   "execution_count": null,
   "metadata": {},
   "outputs": [],
   "source": [
    "# Instead using SQL join, we will use Pandas to perform an inner join of weather and hourlyHDD dataframes"
   ]
  },
  {
   "cell_type": "code",
   "execution_count": 50,
   "metadata": {},
   "outputs": [],
   "source": [
    "# query the weather table\n",
    "sql = \"SELECT time,temperature FROM weather\"\n",
    "\n",
    "try:\n",
    "    dbConnection = get_DBConnection()\n",
    "    df_weather = sqlio.read_sql_query(sql, dbConnection)\n",
    "except (Exception , psycopg2.Error) as dbError :\n",
    "    print (\"Error:\", dbError)\n",
    "finally:\n",
    "    if(dbConnection): dbConnection.close()"
   ]
  },
  {
   "cell_type": "code",
   "execution_count": 51,
   "metadata": {},
   "outputs": [
    {
     "data": {
      "text/html": [
       "<div>\n",
       "<style scoped>\n",
       "    .dataframe tbody tr th:only-of-type {\n",
       "        vertical-align: middle;\n",
       "    }\n",
       "\n",
       "    .dataframe tbody tr th {\n",
       "        vertical-align: top;\n",
       "    }\n",
       "\n",
       "    .dataframe thead th {\n",
       "        text-align: right;\n",
       "    }\n",
       "</style>\n",
       "<table border=\"1\" class=\"dataframe\">\n",
       "  <thead>\n",
       "    <tr style=\"text-align: right;\">\n",
       "      <th></th>\n",
       "      <th>time</th>\n",
       "      <th>temperature</th>\n",
       "    </tr>\n",
       "  </thead>\n",
       "  <tbody>\n",
       "    <tr>\n",
       "      <td>0</td>\n",
       "      <td>2011-01-02 00:00:00</td>\n",
       "      <td>3.59</td>\n",
       "    </tr>\n",
       "    <tr>\n",
       "      <td>1</td>\n",
       "      <td>2011-01-02 01:00:00</td>\n",
       "      <td>3.56</td>\n",
       "    </tr>\n",
       "    <tr>\n",
       "      <td>2</td>\n",
       "      <td>2011-01-02 02:00:00</td>\n",
       "      <td>3.64</td>\n",
       "    </tr>\n",
       "    <tr>\n",
       "      <td>3</td>\n",
       "      <td>2011-01-02 03:00:00</td>\n",
       "      <td>2.85</td>\n",
       "    </tr>\n",
       "    <tr>\n",
       "      <td>4</td>\n",
       "      <td>2011-01-02 04:00:00</td>\n",
       "      <td>2.85</td>\n",
       "    </tr>\n",
       "  </tbody>\n",
       "</table>\n",
       "</div>"
      ],
      "text/plain": [
       "                 time  temperature\n",
       "0 2011-01-02 00:00:00         3.59\n",
       "1 2011-01-02 01:00:00         3.56\n",
       "2 2011-01-02 02:00:00         3.64\n",
       "3 2011-01-02 03:00:00         2.85\n",
       "4 2011-01-02 04:00:00         2.85"
      ]
     },
     "execution_count": 51,
     "metadata": {},
     "output_type": "execute_result"
    }
   ],
   "source": [
    "df_weather.head()"
   ]
  },
  {
   "cell_type": "code",
   "execution_count": 52,
   "metadata": {},
   "outputs": [
    {
     "data": {
      "text/plain": [
       "(5878, 2)"
      ]
     },
     "execution_count": 52,
     "metadata": {},
     "output_type": "execute_result"
    }
   ],
   "source": [
    "# examine how many rows that the dataframe has\n",
    "df_weather.shape\n",
    "# data starts in 2011"
   ]
  },
  {
   "cell_type": "code",
   "execution_count": 53,
   "metadata": {},
   "outputs": [
    {
     "data": {
      "text/plain": [
       "time           2020-04-03 23:00:00\n",
       "temperature                   7.94\n",
       "Name: 5877, dtype: object"
      ]
     },
     "execution_count": 53,
     "metadata": {},
     "output_type": "execute_result"
    }
   ],
   "source": [
    "#examine last row \n",
    "df_weather.iloc[-1]\n",
    "# last observation is in 2020. this dataset has some hourly data from 2011 and remaining in 2020"
   ]
  },
  {
   "cell_type": "code",
   "execution_count": 54,
   "metadata": {},
   "outputs": [],
   "source": [
    "# set time to be the index in weather dataframe\n",
    "df_weather[\"time\"] = pd.to_datetime(df_weather[\"time\"],format=\"%d-%b-%Y\")\n",
    "df_weather.set_index(\"time\", inplace = True)"
   ]
  },
  {
   "cell_type": "code",
   "execution_count": 55,
   "metadata": {},
   "outputs": [
    {
     "data": {
      "text/html": [
       "<div>\n",
       "<style scoped>\n",
       "    .dataframe tbody tr th:only-of-type {\n",
       "        vertical-align: middle;\n",
       "    }\n",
       "\n",
       "    .dataframe tbody tr th {\n",
       "        vertical-align: top;\n",
       "    }\n",
       "\n",
       "    .dataframe thead th {\n",
       "        text-align: right;\n",
       "    }\n",
       "</style>\n",
       "<table border=\"1\" class=\"dataframe\">\n",
       "  <thead>\n",
       "    <tr style=\"text-align: right;\">\n",
       "      <th></th>\n",
       "      <th>temperature</th>\n",
       "      <th>hdd</th>\n",
       "    </tr>\n",
       "  </thead>\n",
       "  <tbody>\n",
       "    <tr>\n",
       "      <td>2011-01-02 00:00:00</td>\n",
       "      <td>3.59</td>\n",
       "      <td>0.467741</td>\n",
       "    </tr>\n",
       "    <tr>\n",
       "      <td>2011-01-02 01:00:00</td>\n",
       "      <td>3.56</td>\n",
       "      <td>0.471159</td>\n",
       "    </tr>\n",
       "    <tr>\n",
       "      <td>2011-01-02 02:00:00</td>\n",
       "      <td>3.64</td>\n",
       "      <td>0.479711</td>\n",
       "    </tr>\n",
       "    <tr>\n",
       "      <td>2011-01-02 03:00:00</td>\n",
       "      <td>2.85</td>\n",
       "      <td>0.483592</td>\n",
       "    </tr>\n",
       "    <tr>\n",
       "      <td>2011-01-02 04:00:00</td>\n",
       "      <td>2.85</td>\n",
       "      <td>0.485431</td>\n",
       "    </tr>\n",
       "  </tbody>\n",
       "</table>\n",
       "</div>"
      ],
      "text/plain": [
       "                     temperature       hdd\n",
       "2011-01-02 00:00:00         3.59  0.467741\n",
       "2011-01-02 01:00:00         3.56  0.471159\n",
       "2011-01-02 02:00:00         3.64  0.479711\n",
       "2011-01-02 03:00:00         2.85  0.483592\n",
       "2011-01-02 04:00:00         2.85  0.485431"
      ]
     },
     "execution_count": 55,
     "metadata": {},
     "output_type": "execute_result"
    }
   ],
   "source": [
    "# perform an inner join with hourlyHDD tables using pandas\n",
    "df_inner = df_weather.join(df_hourlyhdd, how ='inner')\n",
    "df_inner.head()"
   ]
  },
  {
   "cell_type": "code",
   "execution_count": 56,
   "metadata": {},
   "outputs": [
    {
     "data": {
      "text/plain": [
       "(3623, 2)"
      ]
     },
     "execution_count": 56,
     "metadata": {},
     "output_type": "execute_result"
    }
   ],
   "source": [
    "# size of the datset \n",
    "df_inner.shape"
   ]
  },
  {
   "cell_type": "code",
   "execution_count": 57,
   "metadata": {},
   "outputs": [
    {
     "data": {
      "text/plain": [
       "temperature    7.94\n",
       "Name: 2020-04-03 23:00:00, dtype: float64"
      ]
     },
     "execution_count": 57,
     "metadata": {},
     "output_type": "execute_result"
    }
   ],
   "source": [
    "df_weather.iloc[-1]\n",
    "# df_weather has roughly 4 months of hourly data"
   ]
  },
  {
   "cell_type": "code",
   "execution_count": 58,
   "metadata": {},
   "outputs": [],
   "source": [
    "# save hourlyDD and weather dataframe as csv files\n",
    "df_inner.to_csv('combined.csv')"
   ]
  },
  {
   "cell_type": "code",
   "execution_count": 59,
   "metadata": {},
   "outputs": [],
   "source": [
    "df_dailyhdd.to_csv('dailyhdd.csv')"
   ]
  },
  {
   "cell_type": "markdown",
   "metadata": {},
   "source": [
    "<font color=blue><b><i>The remaining steps in time series forcasting is done in R. Please see the R script in the zip file</b></i></font>"
   ]
  }
 ],
 "metadata": {
  "kernelspec": {
   "display_name": "Python 3",
   "language": "python",
   "name": "python3"
  },
  "language_info": {
   "codemirror_mode": {
    "name": "ipython",
    "version": 3
   },
   "file_extension": ".py",
   "mimetype": "text/x-python",
   "name": "python",
   "nbconvert_exporter": "python",
   "pygments_lexer": "ipython3",
   "version": "3.7.4"
  }
 },
 "nbformat": 4,
 "nbformat_minor": 4
}
